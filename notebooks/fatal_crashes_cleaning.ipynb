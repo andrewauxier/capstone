{
 "cells": [
  {
   "cell_type": "markdown",
   "id": "13518ad0",
   "metadata": {},
   "source": [
    "Fatal Crashes Cleaning and Analysis"
   ]
  },
  {
   "cell_type": "code",
   "execution_count": null,
   "id": "95dcd866",
   "metadata": {},
   "outputs": [],
   "source": []
  }
 ],
 "metadata": {
  "language_info": {
   "name": "python"
  }
 },
 "nbformat": 4,
 "nbformat_minor": 5
}
