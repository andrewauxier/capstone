{
 "cells": [
  {
   "cell_type": "markdown",
   "id": "13518ad0",
   "metadata": {},
   "source": [
    "Fatal Crashes Cleaning and Analysis"
   ]
  },
  {
   "cell_type": "code",
   "execution_count": 1,
   "id": "95dcd866",
   "metadata": {},
   "outputs": [],
   "source": [
    "import pandas as pd\n",
    "import matplotlib.pyplot as plt"
   ]
  },
  {
   "cell_type": "code",
   "execution_count": 2,
   "id": "2616cdf9",
   "metadata": {},
   "outputs": [],
   "source": [
    "fatalities = pd.read_excel('../data/fatalities.xlsx')"
   ]
  },
  {
   "cell_type": "markdown",
   "id": "c860c8bd",
   "metadata": {},
   "source": [
    "Exploring the data a little to see what I'm working with."
   ]
  },
  {
   "cell_type": "code",
   "execution_count": 3,
   "id": "865aa5f6",
   "metadata": {},
   "outputs": [
    {
     "name": "stdout",
     "output_type": "stream",
     "text": [
      "Columns: Index(['Year', 'Passenger Cars', 'Light Trucks', 'Large Trucks', 'Motorcycles',\n",
      "       'Buses', 'Other/Unknown', 'Total'],\n",
      "      dtype='object')\n",
      "Shape: (22, 8)\n",
      "Data Types: Year              int64\n",
      "Passenger Cars    int64\n",
      "Light Trucks      int64\n",
      "Large Trucks      int64\n",
      "Motorcycles       int64\n",
      "Buses             int64\n",
      "Other/Unknown     int64\n",
      "Total             int64\n",
      "dtype: object\n",
      "Describe:               Year  Passenger Cars  Light Trucks  Large Trucks  Motorcycles  \\\n",
      "count    22.000000       22.000000     22.000000     22.000000    22.000000   \n",
      "mean   2004.500000    24294.863636  19402.000000   4410.818182  3885.045455   \n",
      "std       6.493587     4920.274327   2147.289654    554.537872  1180.779826   \n",
      "min    1994.000000    17508.000000  16353.000000   3211.000000  2160.000000   \n",
      "25%    1999.250000    18762.250000  17515.000000   3959.500000  2642.750000   \n",
      "50%    2004.500000    25425.500000  19024.000000   4638.500000  4362.000000   \n",
      "75%    2009.750000    27970.750000  21458.750000   4882.250000  4792.250000   \n",
      "max    2015.000000    30940.000000  22964.000000   4995.000000  5409.000000   \n",
      "\n",
      "            Buses  Other/Unknown         Total  \n",
      "count   22.000000      22.000000     22.000000  \n",
      "mean   276.727273    1168.818182  53438.227273  \n",
      "std     28.068253     136.196859   5746.266812  \n",
      "min    221.000000     941.000000  44119.000000  \n",
      "25%    254.250000    1076.500000  46839.500000  \n",
      "50%    279.500000    1159.000000  56672.000000  \n",
      "75%    291.750000    1246.750000  57836.750000  \n",
      "max    325.000000    1449.000000  59495.000000  \n",
      "Null Values: Year              0\n",
      "Passenger Cars    0\n",
      "Light Trucks      0\n",
      "Large Trucks      0\n",
      "Motorcycles       0\n",
      "Buses             0\n",
      "Other/Unknown     0\n",
      "Total             0\n",
      "dtype: int64\n"
     ]
    }
   ],
   "source": [
    "from tools import eda\n",
    "eda(fatalities)"
   ]
  },
  {
   "cell_type": "markdown",
   "id": "9c186f8b",
   "metadata": {},
   "source": [
    "Removing null values, which in this case is an empty row near the top of the spreadsheet"
   ]
  },
  {
   "cell_type": "code",
   "execution_count": 4,
   "id": "7f2dfcc4",
   "metadata": {},
   "outputs": [],
   "source": [
    "#from tools import null\n",
    "#null(fatalities)"
   ]
  },
  {
   "cell_type": "markdown",
   "id": "e6e2b52f",
   "metadata": {},
   "source": [
    "Removing the percentage columns because I'm not planning to use them for anything."
   ]
  },
  {
   "cell_type": "code",
   "execution_count": 5,
   "id": "f2824f19",
   "metadata": {},
   "outputs": [],
   "source": [
    "#fatalities_total = fatalities_clean.drop(columns = ['2015percent', '2014percent', '2013percent', '2012percent', '2011percent', '2010percent', '2009percent', '2008percent', '2007percent', '2006percent', '2005percent', '2004percent', '2003percent', '2002percent', '2001percent', '2000percent', '1999percent', '1998percent', '1997percent', '1996percent', '1995percent', '1994percent'])\n",
    "#print(fatalities_total)"
   ]
  },
  {
   "cell_type": "code",
   "execution_count": 6,
   "id": "d6767192",
   "metadata": {},
   "outputs": [
    {
     "data": {
      "text/plain": [
       "Index(['Year', 'Passenger Cars', 'Light Trucks', 'Large Trucks', 'Motorcycles',\n",
       "       'Buses', 'Other/Unknown', 'Total'],\n",
       "      dtype='object')"
      ]
     },
     "execution_count": 6,
     "metadata": {},
     "output_type": "execute_result"
    }
   ],
   "source": [
    "fatalities.columns"
   ]
  },
  {
   "cell_type": "markdown",
   "id": "c779d8ac",
   "metadata": {},
   "source": [
    "Renaming the column names so that the dates become more apparent and easier to track."
   ]
  },
  {
   "cell_type": "code",
   "execution_count": 7,
   "id": "bd60a900",
   "metadata": {},
   "outputs": [],
   "source": [
    "#fatalities_total = fatalities_total.rename(columns ={'2015total': '2015', '2014total': '2014', '2013total': '2013', '2012total': '2012', '2011total': '2011', '2010total': '2010', '2009total': '2009', '2008total': '2008', '2007total': '2007', '2006total': '2006', '2005total': '2005', '2004total': '2004', '2003total': '2003', '2002total': '2002', '2001total': '2001', '2000total': '2000', '1999total': '1999', '1998total': '1998', '1997total': '1997', '1996total': '1996', '1995total': '1995', '1994total': '1994'})\n",
    "#fatalities_total.columns"
   ]
  },
  {
   "cell_type": "code",
   "execution_count": 8,
   "id": "ce9fa27a",
   "metadata": {},
   "outputs": [
    {
     "name": "stdout",
     "output_type": "stream",
     "text": [
      "    Year  Passenger Cars  Light Trucks  Large Trucks  Motorcycles  Buses  \\\n",
      "0   2015           19810         18869          4075         5131    263   \n",
      "1   2014           17895         17160          3749         4707    236   \n",
      "2   2013           17957         16928          3921         4800    282   \n",
      "3   2012           18269         17350          3825         5113    253   \n",
      "4   2011           17508         16806          3633         4769    245   \n",
      "5   2010           17804         17491          3494         4651    251   \n",
      "6   2009           18413         17958          3211         4603    221   \n",
      "7   2008           20474         19179          4089         5409    251   \n",
      "8   2007           22856         21810          4633         5306    281   \n",
      "9   2006           24260         22411          4766         4963    305   \n",
      "10  2005           25169         22964          4951         4682    280   \n",
      "11  2004           25682         22486          4902         4121    279   \n",
      "12  2003           26562         22299          4721         3802    291   \n",
      "13  2002           27374         21668          4587         3365    274   \n",
      "14  2001           27586         20831          4823         3265    292   \n",
      "15  2000           27802         20498          4995         2975    325   \n",
      "16  1999           28027         19959          4920         2532    319   \n",
      "17  1998           29040         19363          4955         2334    289   \n",
      "18  1997           30059         18628          4917         2160    297   \n",
      "19  1996           30727         18246          4755         2176    325   \n",
      "20  1995           30940         17587          4472         2268    271   \n",
      "21  1994           30273         16353          4644         2339    258   \n",
      "\n",
      "    Other/Unknown  Total  \n",
      "0            1330  49478  \n",
      "1            1205  44950  \n",
      "2            1213  45101  \n",
      "3            1150  45960  \n",
      "4            1158  44119  \n",
      "5            1171  44862  \n",
      "6            1134  45540  \n",
      "7            1258  50660  \n",
      "8            1367  56253  \n",
      "9            1389  58094  \n",
      "10           1449  59495  \n",
      "11           1259  58729  \n",
      "12           1202  58877  \n",
      "13           1160  58428  \n",
      "14           1121  57918  \n",
      "15            998  57593  \n",
      "16           1063  56820  \n",
      "17            941  56922  \n",
      "18            999  57060  \n",
      "19           1117  57347  \n",
      "20            986  56524  \n",
      "21           1044  54911  \n"
     ]
    }
   ],
   "source": [
    "print(fatalities)"
   ]
  },
  {
   "cell_type": "code",
   "execution_count": 10,
   "id": "1a4f3033",
   "metadata": {},
   "outputs": [
    {
     "data": {
      "image/png": "[encoded data removed]",
      "text/plain": [
       "<Figure size 640x480 with 1 Axes>"
      ]
     },
     "metadata": {},
     "output_type": "display_data"
    }
   ],
   "source": [
    "plt.bar(fatalities['Year'], fatalities['Total'], color = 'orange', edgecolor = 'black')\n",
    "plt.title('Total Fatalities by Year')\n",
    "plt.xlabel('Year')\n",
    "plt.ylabel('Total Fatalities')\n",
    "plt.show()"
   ]
  },
  {
   "cell_type": "markdown",
   "id": "888fa52a",
   "metadata": {},
   "source": [
    "Saving the final, cleaned file as a .csv"
   ]
  },
  {
   "cell_type": "code",
   "execution_count": 13,
   "id": "c9b9acea",
   "metadata": {},
   "outputs": [],
   "source": [
    "#fatalities_total.to_csv('../data/fatalities_total_cleaned.csv', index=False)"
   ]
  },
  {
   "cell_type": "code",
   "execution_count": 14,
   "id": "27a1dec7",
   "metadata": {},
   "outputs": [],
   "source": [
    "#annual_fatal_car = fatalities_total.groupby('Vehicle Type')['Passenger Cars'].mean().reset_index()\n",
    "\n",
    "#plt.bar(fatalities_total['Vehicle Type'], fatalities_total['2015'], color = 'orange', edgecolor = 'black')\n",
    "#plt.title('Annual Fatalities by Vehicle Type')\n",
    "#plt.xlabel('Vehicle Type')\n",
    "#plt.ylabel('Fatalities')\n",
    "#plt.show()"
   ]
  },
  {
   "cell_type": "code",
   "execution_count": null,
   "id": "4384aed1",
   "metadata": {},
   "outputs": [
    {
     "name": "stdout",
     "output_type": "stream",
     "text": [
      "           index               1             2             3            4  \\\n",
      "0   Vehicle Type  Passenger Cars  Light Trucks  Large Trucks  Motorcycles   \n",
      "1           2015         19810.0       18869.0        4075.0       5131.0   \n",
      "2           2014         17895.0       17160.0        3749.0       4705.0   \n",
      "3           2013         17957.0       16928.0        3921.0       4800.0   \n",
      "4           2012         18269.0       17350.0        3825.0       5113.0   \n",
      "5           2011         17508.0       16806.0        3633.0       4769.0   \n",
      "6           2010         17804.0       17491.0        3494.0       4651.0   \n",
      "7           2009         18413.0       17958.0        3211.0       4603.0   \n",
      "8           2008         20474.0       19179.0        4089.0       5409.0   \n",
      "9           2007         22856.0       21810.0        4633.0       5306.0   \n",
      "10          2006         24260.0       22411.0        4766.0       4963.0   \n",
      "11          2005         25169.0       22964.0        4951.0       4682.0   \n",
      "12          2004         25682.0       22486.0        4902.0       4121.0   \n",
      "13          2003         26562.0       22299.0        4721.0       3802.0   \n",
      "14          2002         27374.0       21668.0        4587.0       3365.0   \n",
      "15          2001         27586.0       20831.0        4823.0       3265.0   \n",
      "16          2000         27802.0       20498.0        4995.0       2975.0   \n",
      "17          1999         28027.0       19959.0        4920.0       2532.0   \n",
      "18          1998         29040.0       19363.0        4955.0       2334.0   \n",
      "19          1997         30059.0       18628.0        4917.0       2160.0   \n",
      "20          1996         30727.0       18246.0        4755.0       2176.0   \n",
      "21          1995         30940.0       17587.0        4472.0       2268.0   \n",
      "22          1994         30273.0       16353.0        4644.0       2339.0   \n",
      "\n",
      "        5              6        7  \n",
      "0   Buses  Other/Unknown    Total  \n",
      "1   263.0         1330.0  49478.0  \n",
      "2   236.0         1205.0  44950.0  \n",
      "3   282.0         1213.0  45101.0  \n",
      "4   253.0         1150.0  45960.0  \n",
      "5   245.0         1158.0  44119.0  \n",
      "6   251.0         1171.0  44862.0  \n",
      "7   221.0         1134.0  45540.0  \n",
      "8   251.0         1258.0  50660.0  \n",
      "9   281.0         1367.0  56253.0  \n",
      "10  305.0         1389.0  58094.0  \n",
      "11  280.0         1449.0  59495.0  \n",
      "12  279.0         1259.0  58729.0  \n",
      "13  291.0         1202.0  58877.0  \n",
      "14  274.0         1160.0  58428.0  \n",
      "15  292.0         1121.0  57918.0  \n",
      "16  325.0          998.0  57593.0  \n",
      "17  319.0         1063.0  56820.0  \n",
      "18  289.0          941.0  56922.0  \n",
      "19  297.0          999.0  57060.0  \n",
      "20  326.0         1117.0  57347.0  \n",
      "21  271.0          986.0  56524.0  \n",
      "22  258.0         1044.0  54911.0  \n"
     ]
    }
   ],
   "source": [
    "#fatal_flip = pd.DataFrame(fatalities_total).T\n",
    "#fatal_flip = fatal_flip.reset_index()\n",
    "#print(fatal_flip)"
   ]
  },
  {
   "cell_type": "code",
   "execution_count": null,
   "id": "24a1d994",
   "metadata": {},
   "outputs": [
    {
     "data": {
      "text/plain": [
       "Index(['index', 1, 2, 3, 4, 5, 6, 7], dtype='object')"
      ]
     },
     "execution_count": 16,
     "metadata": {},
     "output_type": "execute_result"
    }
   ],
   "source": [
    "#fatal_flip.columns"
   ]
  },
  {
   "cell_type": "code",
   "execution_count": null,
   "id": "febd57cc",
   "metadata": {},
   "outputs": [],
   "source": [
    "#fatal_flip.to_csv('../data/fatal_flip.csv', index=True)"
   ]
  },
  {
   "cell_type": "markdown",
   "id": "566940e2",
   "metadata": {},
   "source": [
    "I cheated here. I couldn't figure out how to easily remove the index column using code. So I opened it in Excel and did it the manual way."
   ]
  },
  {
   "cell_type": "code",
   "execution_count": null,
   "id": "35f488f2",
   "metadata": {},
   "outputs": [
    {
     "data": {
      "text/plain": [
       "Index(['Unnamed: 0', 'index', '1', '2', '3', '4', '5', '6', '7'], dtype='object')"
      ]
     },
     "execution_count": 18,
     "metadata": {},
     "output_type": "execute_result"
    }
   ],
   "source": [
    "#fatal_flip = pd.read_csv('../data/fatal_flip.csv')\n",
    "#fatal_flip.columns"
   ]
  },
  {
   "cell_type": "code",
   "execution_count": null,
   "id": "bd870a61",
   "metadata": {},
   "outputs": [
    {
     "name": "stdout",
     "output_type": "stream",
     "text": [
      "    Unnamed: 0         index               1             2             3  \\\n",
      "0            0  Vehicle Type  Passenger Cars  Light Trucks  Large Trucks   \n",
      "1            1          2015         19810.0       18869.0        4075.0   \n",
      "2            2          2014         17895.0       17160.0        3749.0   \n",
      "3            3          2013         17957.0       16928.0        3921.0   \n",
      "4            4          2012         18269.0       17350.0        3825.0   \n",
      "5            5          2011         17508.0       16806.0        3633.0   \n",
      "6            6          2010         17804.0       17491.0        3494.0   \n",
      "7            7          2009         18413.0       17958.0        3211.0   \n",
      "8            8          2008         20474.0       19179.0        4089.0   \n",
      "9            9          2007         22856.0       21810.0        4633.0   \n",
      "10          10          2006         24260.0       22411.0        4766.0   \n",
      "11          11          2005         25169.0       22964.0        4951.0   \n",
      "12          12          2004         25682.0       22486.0        4902.0   \n",
      "13          13          2003         26562.0       22299.0        4721.0   \n",
      "14          14          2002         27374.0       21668.0        4587.0   \n",
      "15          15          2001         27586.0       20831.0        4823.0   \n",
      "16          16          2000         27802.0       20498.0        4995.0   \n",
      "17          17          1999         28027.0       19959.0        4920.0   \n",
      "18          18          1998         29040.0       19363.0        4955.0   \n",
      "19          19          1997         30059.0       18628.0        4917.0   \n",
      "20          20          1996         30727.0       18246.0        4755.0   \n",
      "21          21          1995         30940.0       17587.0        4472.0   \n",
      "22          22          1994         30273.0       16353.0        4644.0   \n",
      "\n",
      "              4      5              6        7  \n",
      "0   Motorcycles  Buses  Other/Unknown    Total  \n",
      "1        5131.0  263.0         1330.0  49478.0  \n",
      "2        4705.0  236.0         1205.0  44950.0  \n",
      "3        4800.0  282.0         1213.0  45101.0  \n",
      "4        5113.0  253.0         1150.0  45960.0  \n",
      "5        4769.0  245.0         1158.0  44119.0  \n",
      "6        4651.0  251.0         1171.0  44862.0  \n",
      "7        4603.0  221.0         1134.0  45540.0  \n",
      "8        5409.0  251.0         1258.0  50660.0  \n",
      "9        5306.0  281.0         1367.0  56253.0  \n",
      "10       4963.0  305.0         1389.0  58094.0  \n",
      "11       4682.0  280.0         1449.0  59495.0  \n",
      "12       4121.0  279.0         1259.0  58729.0  \n",
      "13       3802.0  291.0         1202.0  58877.0  \n",
      "14       3365.0  274.0         1160.0  58428.0  \n",
      "15       3265.0  292.0         1121.0  57918.0  \n",
      "16       2975.0  325.0          998.0  57593.0  \n",
      "17       2532.0  319.0         1063.0  56820.0  \n",
      "18       2334.0  289.0          941.0  56922.0  \n",
      "19       2160.0  297.0          999.0  57060.0  \n",
      "20       2176.0  326.0         1117.0  57347.0  \n",
      "21       2268.0  271.0          986.0  56524.0  \n",
      "22       2339.0  258.0         1044.0  54911.0  \n"
     ]
    }
   ],
   "source": [
    "#fatal_flip = fatal_flip.rename(columns = {'Vehicle Type': 'year'})\n",
    "#print(fatal_flip)"
   ]
  },
  {
   "cell_type": "code",
   "execution_count": null,
   "id": "5c20dfb4",
   "metadata": {},
   "outputs": [
    {
     "ename": "KeyError",
     "evalue": "\"['Large Trucks', 'Motorcycles', 'Buses', 'Other/Unknown', 'Total'] not found in axis\"",
     "output_type": "error",
     "traceback": [
      "\u001b[31m---------------------------------------------------------------------------\u001b[39m",
      "\u001b[31mKeyError\u001b[39m                                  Traceback (most recent call last)",
      "\u001b[36mCell\u001b[39m\u001b[36m \u001b[39m\u001b[32mIn[20]\u001b[39m\u001b[32m, line 1\u001b[39m\n\u001b[32m----> \u001b[39m\u001b[32m1\u001b[39m fatal_flip = \u001b[43mfatal_flip\u001b[49m\u001b[43m.\u001b[49m\u001b[43mdrop\u001b[49m\u001b[43m(\u001b[49m\u001b[43mcolumns\u001b[49m\u001b[43m \u001b[49m\u001b[43m=\u001b[49m\u001b[43m \u001b[49m\u001b[43m[\u001b[49m\u001b[33;43m'\u001b[39;49m\u001b[33;43mLarge Trucks\u001b[39;49m\u001b[33;43m'\u001b[39;49m\u001b[43m,\u001b[49m\u001b[43m \u001b[49m\u001b[33;43m'\u001b[39;49m\u001b[33;43mMotorcycles\u001b[39;49m\u001b[33;43m'\u001b[39;49m\u001b[43m,\u001b[49m\u001b[43m \u001b[49m\u001b[33;43m'\u001b[39;49m\u001b[33;43mBuses\u001b[39;49m\u001b[33;43m'\u001b[39;49m\u001b[43m,\u001b[49m\u001b[43m \u001b[49m\u001b[33;43m'\u001b[39;49m\u001b[33;43mOther/Unknown\u001b[39;49m\u001b[33;43m'\u001b[39;49m\u001b[43m,\u001b[49m\u001b[43m \u001b[49m\u001b[33;43m'\u001b[39;49m\u001b[33;43mTotal\u001b[39;49m\u001b[33;43m'\u001b[39;49m\u001b[43m]\u001b[49m\u001b[43m)\u001b[49m\n\u001b[32m      2\u001b[39m fatal_flip.columns\n",
      "\u001b[36mFile \u001b[39m\u001b[32mc:\\Users\\H1OR9AJA\\AppData\\Local\\Programs\\Python\\Python313\\Lib\\site-packages\\pandas\\core\\frame.py:5581\u001b[39m, in \u001b[36mDataFrame.drop\u001b[39m\u001b[34m(self, labels, axis, index, columns, level, inplace, errors)\u001b[39m\n\u001b[32m   5433\u001b[39m \u001b[38;5;28;01mdef\u001b[39;00m\u001b[38;5;250m \u001b[39m\u001b[34mdrop\u001b[39m(\n\u001b[32m   5434\u001b[39m     \u001b[38;5;28mself\u001b[39m,\n\u001b[32m   5435\u001b[39m     labels: IndexLabel | \u001b[38;5;28;01mNone\u001b[39;00m = \u001b[38;5;28;01mNone\u001b[39;00m,\n\u001b[32m   (...)\u001b[39m\u001b[32m   5442\u001b[39m     errors: IgnoreRaise = \u001b[33m\"\u001b[39m\u001b[33mraise\u001b[39m\u001b[33m\"\u001b[39m,\n\u001b[32m   5443\u001b[39m ) -> DataFrame | \u001b[38;5;28;01mNone\u001b[39;00m:\n\u001b[32m   5444\u001b[39m \u001b[38;5;250m    \u001b[39m\u001b[33;03m\"\"\"\u001b[39;00m\n\u001b[32m   5445\u001b[39m \u001b[33;03m    Drop specified labels from rows or columns.\u001b[39;00m\n\u001b[32m   5446\u001b[39m \n\u001b[32m   (...)\u001b[39m\u001b[32m   5579\u001b[39m \u001b[33;03m            weight  1.0     0.8\u001b[39;00m\n\u001b[32m   5580\u001b[39m \u001b[33;03m    \"\"\"\u001b[39;00m\n\u001b[32m-> \u001b[39m\u001b[32m5581\u001b[39m     \u001b[38;5;28;01mreturn\u001b[39;00m \u001b[38;5;28;43msuper\u001b[39;49m\u001b[43m(\u001b[49m\u001b[43m)\u001b[49m\u001b[43m.\u001b[49m\u001b[43mdrop\u001b[49m\u001b[43m(\u001b[49m\n\u001b[32m   5582\u001b[39m \u001b[43m        \u001b[49m\u001b[43mlabels\u001b[49m\u001b[43m=\u001b[49m\u001b[43mlabels\u001b[49m\u001b[43m,\u001b[49m\n\u001b[32m   5583\u001b[39m \u001b[43m        \u001b[49m\u001b[43maxis\u001b[49m\u001b[43m=\u001b[49m\u001b[43maxis\u001b[49m\u001b[43m,\u001b[49m\n\u001b[32m   5584\u001b[39m \u001b[43m        \u001b[49m\u001b[43mindex\u001b[49m\u001b[43m=\u001b[49m\u001b[43mindex\u001b[49m\u001b[43m,\u001b[49m\n\u001b[32m   5585\u001b[39m \u001b[43m        \u001b[49m\u001b[43mcolumns\u001b[49m\u001b[43m=\u001b[49m\u001b[43mcolumns\u001b[49m\u001b[43m,\u001b[49m\n\u001b[32m   5586\u001b[39m \u001b[43m        \u001b[49m\u001b[43mlevel\u001b[49m\u001b[43m=\u001b[49m\u001b[43mlevel\u001b[49m\u001b[43m,\u001b[49m\n\u001b[32m   5587\u001b[39m \u001b[43m        \u001b[49m\u001b[43minplace\u001b[49m\u001b[43m=\u001b[49m\u001b[43minplace\u001b[49m\u001b[43m,\u001b[49m\n\u001b[32m   5588\u001b[39m \u001b[43m        \u001b[49m\u001b[43merrors\u001b[49m\u001b[43m=\u001b[49m\u001b[43merrors\u001b[49m\u001b[43m,\u001b[49m\n\u001b[32m   5589\u001b[39m \u001b[43m    \u001b[49m\u001b[43m)\u001b[49m\n",
      "\u001b[36mFile \u001b[39m\u001b[32mc:\\Users\\H1OR9AJA\\AppData\\Local\\Programs\\Python\\Python313\\Lib\\site-packages\\pandas\\core\\generic.py:4788\u001b[39m, in \u001b[36mNDFrame.drop\u001b[39m\u001b[34m(self, labels, axis, index, columns, level, inplace, errors)\u001b[39m\n\u001b[32m   4786\u001b[39m \u001b[38;5;28;01mfor\u001b[39;00m axis, labels \u001b[38;5;129;01min\u001b[39;00m axes.items():\n\u001b[32m   4787\u001b[39m     \u001b[38;5;28;01mif\u001b[39;00m labels \u001b[38;5;129;01mis\u001b[39;00m \u001b[38;5;129;01mnot\u001b[39;00m \u001b[38;5;28;01mNone\u001b[39;00m:\n\u001b[32m-> \u001b[39m\u001b[32m4788\u001b[39m         obj = \u001b[43mobj\u001b[49m\u001b[43m.\u001b[49m\u001b[43m_drop_axis\u001b[49m\u001b[43m(\u001b[49m\u001b[43mlabels\u001b[49m\u001b[43m,\u001b[49m\u001b[43m \u001b[49m\u001b[43maxis\u001b[49m\u001b[43m,\u001b[49m\u001b[43m \u001b[49m\u001b[43mlevel\u001b[49m\u001b[43m=\u001b[49m\u001b[43mlevel\u001b[49m\u001b[43m,\u001b[49m\u001b[43m \u001b[49m\u001b[43merrors\u001b[49m\u001b[43m=\u001b[49m\u001b[43merrors\u001b[49m\u001b[43m)\u001b[49m\n\u001b[32m   4790\u001b[39m \u001b[38;5;28;01mif\u001b[39;00m inplace:\n\u001b[32m   4791\u001b[39m     \u001b[38;5;28mself\u001b[39m._update_inplace(obj)\n",
      "\u001b[36mFile \u001b[39m\u001b[32mc:\\Users\\H1OR9AJA\\AppData\\Local\\Programs\\Python\\Python313\\Lib\\site-packages\\pandas\\core\\generic.py:4830\u001b[39m, in \u001b[36mNDFrame._drop_axis\u001b[39m\u001b[34m(self, labels, axis, level, errors, only_slice)\u001b[39m\n\u001b[32m   4828\u001b[39m         new_axis = axis.drop(labels, level=level, errors=errors)\n\u001b[32m   4829\u001b[39m     \u001b[38;5;28;01melse\u001b[39;00m:\n\u001b[32m-> \u001b[39m\u001b[32m4830\u001b[39m         new_axis = \u001b[43maxis\u001b[49m\u001b[43m.\u001b[49m\u001b[43mdrop\u001b[49m\u001b[43m(\u001b[49m\u001b[43mlabels\u001b[49m\u001b[43m,\u001b[49m\u001b[43m \u001b[49m\u001b[43merrors\u001b[49m\u001b[43m=\u001b[49m\u001b[43merrors\u001b[49m\u001b[43m)\u001b[49m\n\u001b[32m   4831\u001b[39m     indexer = axis.get_indexer(new_axis)\n\u001b[32m   4833\u001b[39m \u001b[38;5;66;03m# Case for non-unique axis\u001b[39;00m\n\u001b[32m   4834\u001b[39m \u001b[38;5;28;01melse\u001b[39;00m:\n",
      "\u001b[36mFile \u001b[39m\u001b[32mc:\\Users\\H1OR9AJA\\AppData\\Local\\Programs\\Python\\Python313\\Lib\\site-packages\\pandas\\core\\indexes\\base.py:7070\u001b[39m, in \u001b[36mIndex.drop\u001b[39m\u001b[34m(self, labels, errors)\u001b[39m\n\u001b[32m   7068\u001b[39m \u001b[38;5;28;01mif\u001b[39;00m mask.any():\n\u001b[32m   7069\u001b[39m     \u001b[38;5;28;01mif\u001b[39;00m errors != \u001b[33m\"\u001b[39m\u001b[33mignore\u001b[39m\u001b[33m\"\u001b[39m:\n\u001b[32m-> \u001b[39m\u001b[32m7070\u001b[39m         \u001b[38;5;28;01mraise\u001b[39;00m \u001b[38;5;167;01mKeyError\u001b[39;00m(\u001b[33mf\u001b[39m\u001b[33m\"\u001b[39m\u001b[38;5;132;01m{\u001b[39;00mlabels[mask].tolist()\u001b[38;5;132;01m}\u001b[39;00m\u001b[33m not found in axis\u001b[39m\u001b[33m\"\u001b[39m)\n\u001b[32m   7071\u001b[39m     indexer = indexer[~mask]\n\u001b[32m   7072\u001b[39m \u001b[38;5;28;01mreturn\u001b[39;00m \u001b[38;5;28mself\u001b[39m.delete(indexer)\n",
      "\u001b[31mKeyError\u001b[39m: \"['Large Trucks', 'Motorcycles', 'Buses', 'Other/Unknown', 'Total'] not found in axis\""
     ]
    }
   ],
   "source": [
    "#fatal_flip = fatal_flip.drop(columns = ['Large Trucks', 'Motorcycles', 'Buses', 'Other/Unknown', 'Total'])\n",
    "#fatal_flip.columns"
   ]
  }
 ],
 "metadata": {
  "kernelspec": {
   "display_name": "Python 3",
   "language": "python",
   "name": "python3"
  },
  "language_info": {
   "codemirror_mode": {
    "name": "ipython",
    "version": 3
   },
   "file_extension": ".py",
   "mimetype": "text/x-python",
   "name": "python",
   "nbconvert_exporter": "python",
   "pygments_lexer": "ipython3",
   "version": "3.13.1"
  }
 },
 "nbformat": 4,
 "nbformat_minor": 5
}
