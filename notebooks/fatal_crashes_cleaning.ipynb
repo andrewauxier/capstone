{
 "cells": [
  {
   "cell_type": "markdown",
   "id": "13518ad0",
   "metadata": {},
   "source": [
    "Fatal Crashes Cleaning and Analysis"
   ]
  },
  {
   "cell_type": "code",
   "execution_count": 2,
   "id": "95dcd866",
   "metadata": {},
   "outputs": [],
   "source": [
    "import pandas as pd"
   ]
  },
  {
   "cell_type": "code",
   "execution_count": 6,
   "id": "2616cdf9",
   "metadata": {},
   "outputs": [],
   "source": [
    "fatalities = pd.read_excel('../data/fatalities_combined.xlsx')"
   ]
  },
  {
   "cell_type": "code",
   "execution_count": 7,
   "id": "4942311a",
   "metadata": {},
   "outputs": [
    {
     "data": {
      "text/plain": [
       "<bound method NDFrame.head of      Vehicle Type  2015total  2015percent  2014total  2014percent  2013total  \\\n",
       "0             NaN        NaN          NaN        NaN          NaN        NaN   \n",
       "1  Passenger Cars    19810.0         40.0    17895.0         39.8    17957.0   \n",
       "2    Light Trucks    18869.0         38.1    17160.0         38.2    16928.0   \n",
       "3    Large Trucks     4075.0          8.2     3749.0          8.3     3921.0   \n",
       "4     Motorcycles     5131.0         10.4     4705.0         10.5     4800.0   \n",
       "5           Buses      263.0          0.5      236.0          0.5      282.0   \n",
       "6   Other/Unknown     1330.0          2.7     1205.0          2.7     1213.0   \n",
       "7           Total    49478.0        100.0    44950.0        100.0    45101.0   \n",
       "\n",
       "   2013percent  2012total  2012percent  2011total  ...  1998total  \\\n",
       "0          NaN        NaN          NaN        NaN  ...        NaN   \n",
       "1         39.8    18269.0         39.7    17508.0  ...    29040.0   \n",
       "2         37.5    17350.0         37.8    16806.0  ...    19363.0   \n",
       "3          8.7     3825.0          8.3     3633.0  ...     4955.0   \n",
       "4         10.6     5113.0         11.1     4769.0  ...     2334.0   \n",
       "5          0.6      253.0          0.6      245.0  ...      289.0   \n",
       "6          2.7     1150.0          2.5     1158.0  ...      941.0   \n",
       "7        100.0    45960.0        100.0    44119.0  ...    56922.0   \n",
       "\n",
       "   1998percent  1997total  1997percent  1996total  1996percent  1995total  \\\n",
       "0          NaN        NaN          NaN        NaN          NaN        NaN   \n",
       "1         51.0    30059.0         52.7    30727.0         53.6    30940.0   \n",
       "2         34.0    18628.0         32.6    18246.0         31.8    17587.0   \n",
       "3          8.7     4917.0          8.6     4755.0          8.3     4472.0   \n",
       "4          4.1     2160.0          3.8     2176.0          3.8     2268.0   \n",
       "5          0.5      297.0          0.5      326.0          0.6      271.0   \n",
       "6          1.7      999.0          1.8     1117.0          1.9      986.0   \n",
       "7        100.0    57060.0        100.0    57347.0        100.0    56524.0   \n",
       "\n",
       "   1995percent  1994total  1994percent  \n",
       "0          NaN        NaN          NaN  \n",
       "1         54.7    30273.0         55.1  \n",
       "2         31.1    16353.0         29.8  \n",
       "3          7.9     4644.0          8.5  \n",
       "4          4.0     2339.0          4.3  \n",
       "5          0.5      258.0          0.5  \n",
       "6          1.7     1044.0          1.9  \n",
       "7        100.0    54911.0        100.0  \n",
       "\n",
       "[8 rows x 45 columns]>"
      ]
     },
     "execution_count": 7,
     "metadata": {},
     "output_type": "execute_result"
    }
   ],
   "source": [
    "fatalities.head"
   ]
  }
 ],
 "metadata": {
  "kernelspec": {
   "display_name": "Python 3",
   "language": "python",
   "name": "python3"
  },
  "language_info": {
   "codemirror_mode": {
    "name": "ipython",
    "version": 3
   },
   "file_extension": ".py",
   "mimetype": "text/x-python",
   "name": "python",
   "nbconvert_exporter": "python",
   "pygments_lexer": "ipython3",
   "version": "3.13.1"
  }
 },
 "nbformat": 4,
 "nbformat_minor": 5
}
