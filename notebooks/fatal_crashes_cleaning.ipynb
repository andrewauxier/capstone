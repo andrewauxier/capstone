{
 "cells": [
  {
   "cell_type": "markdown",
   "id": "13518ad0",
   "metadata": {},
   "source": [
    "Fatal Crashes Cleaning and Analysis"
   ]
  },
  {
   "cell_type": "code",
   "execution_count": 8,
   "id": "95dcd866",
   "metadata": {},
   "outputs": [],
   "source": [
    "import pandas as pd\n",
    "import matplotlib.pyplot as plt"
   ]
  },
  {
   "cell_type": "code",
   "execution_count": 2,
   "id": "2616cdf9",
   "metadata": {},
   "outputs": [],
   "source": [
    "fatalities = pd.read_excel('../data/fatalities_combined.xlsx')"
   ]
  },
  {
   "cell_type": "markdown",
   "id": "c860c8bd",
   "metadata": {},
   "source": [
    "Exploring the data a little to see what I'm working with."
   ]
  },
  {
   "cell_type": "code",
   "execution_count": 3,
   "id": "4942311a",
   "metadata": {},
   "outputs": [
    {
     "data": {
      "text/plain": [
       "<bound method NDFrame.head of      Vehicle Type  2015total  2015percent  2014total  2014percent  2013total  \\\n",
       "0             NaN        NaN          NaN        NaN          NaN        NaN   \n",
       "1  Passenger Cars    19810.0         40.0    17895.0         39.8    17957.0   \n",
       "2    Light Trucks    18869.0         38.1    17160.0         38.2    16928.0   \n",
       "3    Large Trucks     4075.0          8.2     3749.0          8.3     3921.0   \n",
       "4     Motorcycles     5131.0         10.4     4705.0         10.5     4800.0   \n",
       "5           Buses      263.0          0.5      236.0          0.5      282.0   \n",
       "6   Other/Unknown     1330.0          2.7     1205.0          2.7     1213.0   \n",
       "7           Total    49478.0        100.0    44950.0        100.0    45101.0   \n",
       "\n",
       "   2013percent  2012total  2012percent  2011total  ...  1998total  \\\n",
       "0          NaN        NaN          NaN        NaN  ...        NaN   \n",
       "1         39.8    18269.0         39.7    17508.0  ...    29040.0   \n",
       "2         37.5    17350.0         37.8    16806.0  ...    19363.0   \n",
       "3          8.7     3825.0          8.3     3633.0  ...     4955.0   \n",
       "4         10.6     5113.0         11.1     4769.0  ...     2334.0   \n",
       "5          0.6      253.0          0.6      245.0  ...      289.0   \n",
       "6          2.7     1150.0          2.5     1158.0  ...      941.0   \n",
       "7        100.0    45960.0        100.0    44119.0  ...    56922.0   \n",
       "\n",
       "   1998percent  1997total  1997percent  1996total  1996percent  1995total  \\\n",
       "0          NaN        NaN          NaN        NaN          NaN        NaN   \n",
       "1         51.0    30059.0         52.7    30727.0         53.6    30940.0   \n",
       "2         34.0    18628.0         32.6    18246.0         31.8    17587.0   \n",
       "3          8.7     4917.0          8.6     4755.0          8.3     4472.0   \n",
       "4          4.1     2160.0          3.8     2176.0          3.8     2268.0   \n",
       "5          0.5      297.0          0.5      326.0          0.6      271.0   \n",
       "6          1.7      999.0          1.8     1117.0          1.9      986.0   \n",
       "7        100.0    57060.0        100.0    57347.0        100.0    56524.0   \n",
       "\n",
       "   1995percent  1994total  1994percent  \n",
       "0          NaN        NaN          NaN  \n",
       "1         54.7    30273.0         55.1  \n",
       "2         31.1    16353.0         29.8  \n",
       "3          7.9     4644.0          8.5  \n",
       "4          4.0     2339.0          4.3  \n",
       "5          0.5      258.0          0.5  \n",
       "6          1.7     1044.0          1.9  \n",
       "7        100.0    54911.0        100.0  \n",
       "\n",
       "[8 rows x 45 columns]>"
      ]
     },
     "execution_count": 3,
     "metadata": {},
     "output_type": "execute_result"
    }
   ],
   "source": [
    "fatalities.head"
   ]
  },
  {
   "cell_type": "code",
   "execution_count": 9,
   "id": "4d24cbc6",
   "metadata": {},
   "outputs": [
    {
     "data": {
      "text/plain": [
       "(8, 45)"
      ]
     },
     "execution_count": 9,
     "metadata": {},
     "output_type": "execute_result"
    }
   ],
   "source": [
    "fatalities.shape"
   ]
  },
  {
   "cell_type": "code",
   "execution_count": 5,
   "id": "68206d98",
   "metadata": {},
   "outputs": [
    {
     "data": {
      "text/html": [
       "<div>\n",
       "<style scoped>\n",
       "    .dataframe tbody tr th:only-of-type {\n",
       "        vertical-align: middle;\n",
       "    }\n",
       "\n",
       "    .dataframe tbody tr th {\n",
       "        vertical-align: top;\n",
       "    }\n",
       "\n",
       "    .dataframe thead th {\n",
       "        text-align: right;\n",
       "    }\n",
       "</style>\n",
       "<table border=\"1\" class=\"dataframe\">\n",
       "  <thead>\n",
       "    <tr style=\"text-align: right;\">\n",
       "      <th></th>\n",
       "      <th>2015total</th>\n",
       "      <th>2015percent</th>\n",
       "      <th>2014total</th>\n",
       "      <th>2014percent</th>\n",
       "      <th>2013total</th>\n",
       "      <th>2013percent</th>\n",
       "      <th>2012total</th>\n",
       "      <th>2012percent</th>\n",
       "      <th>2011total</th>\n",
       "      <th>2011percent</th>\n",
       "      <th>...</th>\n",
       "      <th>1998total</th>\n",
       "      <th>1998percent</th>\n",
       "      <th>1997total</th>\n",
       "      <th>1997percent</th>\n",
       "      <th>1996total</th>\n",
       "      <th>1996percent</th>\n",
       "      <th>1995total</th>\n",
       "      <th>1995percent</th>\n",
       "      <th>1994total</th>\n",
       "      <th>1994percent</th>\n",
       "    </tr>\n",
       "  </thead>\n",
       "  <tbody>\n",
       "    <tr>\n",
       "      <th>count</th>\n",
       "      <td>7.000000</td>\n",
       "      <td>7.000000</td>\n",
       "      <td>7.000000</td>\n",
       "      <td>7.000000</td>\n",
       "      <td>7.000000</td>\n",
       "      <td>7.000000</td>\n",
       "      <td>7.000000</td>\n",
       "      <td>7.000000</td>\n",
       "      <td>7.000000</td>\n",
       "      <td>7.000000</td>\n",
       "      <td>...</td>\n",
       "      <td>7.000000</td>\n",
       "      <td>7.000000</td>\n",
       "      <td>7.000000</td>\n",
       "      <td>7.000000</td>\n",
       "      <td>7.000000</td>\n",
       "      <td>7.000000</td>\n",
       "      <td>7.000000</td>\n",
       "      <td>7.000000</td>\n",
       "      <td>7.000000</td>\n",
       "      <td>7.000000</td>\n",
       "    </tr>\n",
       "    <tr>\n",
       "      <th>mean</th>\n",
       "      <td>14136.571429</td>\n",
       "      <td>28.557143</td>\n",
       "      <td>12842.857143</td>\n",
       "      <td>28.571429</td>\n",
       "      <td>12886.000000</td>\n",
       "      <td>28.557143</td>\n",
       "      <td>13131.428571</td>\n",
       "      <td>28.571429</td>\n",
       "      <td>12605.428571</td>\n",
       "      <td>28.571429</td>\n",
       "      <td>...</td>\n",
       "      <td>16263.428571</td>\n",
       "      <td>28.571429</td>\n",
       "      <td>16302.857143</td>\n",
       "      <td>28.571429</td>\n",
       "      <td>16384.857143</td>\n",
       "      <td>28.571429</td>\n",
       "      <td>16149.714286</td>\n",
       "      <td>28.557143</td>\n",
       "      <td>15688.857143</td>\n",
       "      <td>28.585714</td>\n",
       "    </tr>\n",
       "    <tr>\n",
       "      <th>std</th>\n",
       "      <td>17523.413089</td>\n",
       "      <td>35.416515</td>\n",
       "      <td>15907.681660</td>\n",
       "      <td>35.392264</td>\n",
       "      <td>15920.287874</td>\n",
       "      <td>35.302071</td>\n",
       "      <td>16238.942134</td>\n",
       "      <td>35.330238</td>\n",
       "      <td>15601.939483</td>\n",
       "      <td>35.365742</td>\n",
       "      <td>...</td>\n",
       "      <td>20967.579234</td>\n",
       "      <td>36.829233</td>\n",
       "      <td>21118.065358</td>\n",
       "      <td>37.008229</td>\n",
       "      <td>21272.821529</td>\n",
       "      <td>37.097202</td>\n",
       "      <td>21063.570801</td>\n",
       "      <td>37.265438</td>\n",
       "      <td>20429.984283</td>\n",
       "      <td>37.190161</td>\n",
       "    </tr>\n",
       "    <tr>\n",
       "      <th>min</th>\n",
       "      <td>263.000000</td>\n",
       "      <td>0.500000</td>\n",
       "      <td>236.000000</td>\n",
       "      <td>0.500000</td>\n",
       "      <td>282.000000</td>\n",
       "      <td>0.600000</td>\n",
       "      <td>253.000000</td>\n",
       "      <td>0.600000</td>\n",
       "      <td>245.000000</td>\n",
       "      <td>0.600000</td>\n",
       "      <td>...</td>\n",
       "      <td>289.000000</td>\n",
       "      <td>0.500000</td>\n",
       "      <td>297.000000</td>\n",
       "      <td>0.500000</td>\n",
       "      <td>326.000000</td>\n",
       "      <td>0.600000</td>\n",
       "      <td>271.000000</td>\n",
       "      <td>0.500000</td>\n",
       "      <td>258.000000</td>\n",
       "      <td>0.500000</td>\n",
       "    </tr>\n",
       "    <tr>\n",
       "      <th>25%</th>\n",
       "      <td>2702.500000</td>\n",
       "      <td>5.450000</td>\n",
       "      <td>2477.000000</td>\n",
       "      <td>5.500000</td>\n",
       "      <td>2567.000000</td>\n",
       "      <td>5.700000</td>\n",
       "      <td>2487.500000</td>\n",
       "      <td>5.400000</td>\n",
       "      <td>2395.500000</td>\n",
       "      <td>5.400000</td>\n",
       "      <td>...</td>\n",
       "      <td>1637.500000</td>\n",
       "      <td>2.900000</td>\n",
       "      <td>1579.500000</td>\n",
       "      <td>2.800000</td>\n",
       "      <td>1646.500000</td>\n",
       "      <td>2.850000</td>\n",
       "      <td>1627.000000</td>\n",
       "      <td>2.850000</td>\n",
       "      <td>1691.500000</td>\n",
       "      <td>3.100000</td>\n",
       "    </tr>\n",
       "    <tr>\n",
       "      <th>50%</th>\n",
       "      <td>5131.000000</td>\n",
       "      <td>10.400000</td>\n",
       "      <td>4705.000000</td>\n",
       "      <td>10.500000</td>\n",
       "      <td>4800.000000</td>\n",
       "      <td>10.600000</td>\n",
       "      <td>5113.000000</td>\n",
       "      <td>11.100000</td>\n",
       "      <td>4769.000000</td>\n",
       "      <td>10.800000</td>\n",
       "      <td>...</td>\n",
       "      <td>4955.000000</td>\n",
       "      <td>8.700000</td>\n",
       "      <td>4917.000000</td>\n",
       "      <td>8.600000</td>\n",
       "      <td>4755.000000</td>\n",
       "      <td>8.300000</td>\n",
       "      <td>4472.000000</td>\n",
       "      <td>7.900000</td>\n",
       "      <td>4644.000000</td>\n",
       "      <td>8.500000</td>\n",
       "    </tr>\n",
       "    <tr>\n",
       "      <th>75%</th>\n",
       "      <td>19339.500000</td>\n",
       "      <td>39.050000</td>\n",
       "      <td>17527.500000</td>\n",
       "      <td>39.000000</td>\n",
       "      <td>17442.500000</td>\n",
       "      <td>38.650000</td>\n",
       "      <td>17809.500000</td>\n",
       "      <td>38.750000</td>\n",
       "      <td>17157.000000</td>\n",
       "      <td>38.900000</td>\n",
       "      <td>...</td>\n",
       "      <td>24201.500000</td>\n",
       "      <td>42.500000</td>\n",
       "      <td>24343.500000</td>\n",
       "      <td>42.650000</td>\n",
       "      <td>24486.500000</td>\n",
       "      <td>42.700000</td>\n",
       "      <td>24263.500000</td>\n",
       "      <td>42.900000</td>\n",
       "      <td>23313.000000</td>\n",
       "      <td>42.450000</td>\n",
       "    </tr>\n",
       "    <tr>\n",
       "      <th>max</th>\n",
       "      <td>49478.000000</td>\n",
       "      <td>100.000000</td>\n",
       "      <td>44950.000000</td>\n",
       "      <td>100.000000</td>\n",
       "      <td>45101.000000</td>\n",
       "      <td>100.000000</td>\n",
       "      <td>45960.000000</td>\n",
       "      <td>100.000000</td>\n",
       "      <td>44119.000000</td>\n",
       "      <td>100.000000</td>\n",
       "      <td>...</td>\n",
       "      <td>56922.000000</td>\n",
       "      <td>100.000000</td>\n",
       "      <td>57060.000000</td>\n",
       "      <td>100.000000</td>\n",
       "      <td>57347.000000</td>\n",
       "      <td>100.000000</td>\n",
       "      <td>56524.000000</td>\n",
       "      <td>100.000000</td>\n",
       "      <td>54911.000000</td>\n",
       "      <td>100.000000</td>\n",
       "    </tr>\n",
       "  </tbody>\n",
       "</table>\n",
       "<p>8 rows × 44 columns</p>\n",
       "</div>"
      ],
      "text/plain": [
       "          2015total  2015percent     2014total  2014percent     2013total  \\\n",
       "count      7.000000     7.000000      7.000000     7.000000      7.000000   \n",
       "mean   14136.571429    28.557143  12842.857143    28.571429  12886.000000   \n",
       "std    17523.413089    35.416515  15907.681660    35.392264  15920.287874   \n",
       "min      263.000000     0.500000    236.000000     0.500000    282.000000   \n",
       "25%     2702.500000     5.450000   2477.000000     5.500000   2567.000000   \n",
       "50%     5131.000000    10.400000   4705.000000    10.500000   4800.000000   \n",
       "75%    19339.500000    39.050000  17527.500000    39.000000  17442.500000   \n",
       "max    49478.000000   100.000000  44950.000000   100.000000  45101.000000   \n",
       "\n",
       "       2013percent     2012total  2012percent     2011total  2011percent  ...  \\\n",
       "count     7.000000      7.000000     7.000000      7.000000     7.000000  ...   \n",
       "mean     28.557143  13131.428571    28.571429  12605.428571    28.571429  ...   \n",
       "std      35.302071  16238.942134    35.330238  15601.939483    35.365742  ...   \n",
       "min       0.600000    253.000000     0.600000    245.000000     0.600000  ...   \n",
       "25%       5.700000   2487.500000     5.400000   2395.500000     5.400000  ...   \n",
       "50%      10.600000   5113.000000    11.100000   4769.000000    10.800000  ...   \n",
       "75%      38.650000  17809.500000    38.750000  17157.000000    38.900000  ...   \n",
       "max     100.000000  45960.000000   100.000000  44119.000000   100.000000  ...   \n",
       "\n",
       "          1998total  1998percent     1997total  1997percent     1996total  \\\n",
       "count      7.000000     7.000000      7.000000     7.000000      7.000000   \n",
       "mean   16263.428571    28.571429  16302.857143    28.571429  16384.857143   \n",
       "std    20967.579234    36.829233  21118.065358    37.008229  21272.821529   \n",
       "min      289.000000     0.500000    297.000000     0.500000    326.000000   \n",
       "25%     1637.500000     2.900000   1579.500000     2.800000   1646.500000   \n",
       "50%     4955.000000     8.700000   4917.000000     8.600000   4755.000000   \n",
       "75%    24201.500000    42.500000  24343.500000    42.650000  24486.500000   \n",
       "max    56922.000000   100.000000  57060.000000   100.000000  57347.000000   \n",
       "\n",
       "       1996percent     1995total  1995percent     1994total  1994percent  \n",
       "count     7.000000      7.000000     7.000000      7.000000     7.000000  \n",
       "mean     28.571429  16149.714286    28.557143  15688.857143    28.585714  \n",
       "std      37.097202  21063.570801    37.265438  20429.984283    37.190161  \n",
       "min       0.600000    271.000000     0.500000    258.000000     0.500000  \n",
       "25%       2.850000   1627.000000     2.850000   1691.500000     3.100000  \n",
       "50%       8.300000   4472.000000     7.900000   4644.000000     8.500000  \n",
       "75%      42.700000  24263.500000    42.900000  23313.000000    42.450000  \n",
       "max     100.000000  56524.000000   100.000000  54911.000000   100.000000  \n",
       "\n",
       "[8 rows x 44 columns]"
      ]
     },
     "execution_count": 5,
     "metadata": {},
     "output_type": "execute_result"
    }
   ],
   "source": [
    "fatalities.describe()"
   ]
  },
  {
   "cell_type": "code",
   "execution_count": 6,
   "id": "976abdf1",
   "metadata": {},
   "outputs": [
    {
     "data": {
      "text/plain": [
       "Vehicle Type     object\n",
       "2015total       float64\n",
       "2015percent     float64\n",
       "2014total       float64\n",
       "2014percent     float64\n",
       "2013total       float64\n",
       "2013percent     float64\n",
       "2012total       float64\n",
       "2012percent     float64\n",
       "2011total       float64\n",
       "2011percent     float64\n",
       "2010total       float64\n",
       "2010percent     float64\n",
       "2009total       float64\n",
       "2009percent     float64\n",
       "2008total       float64\n",
       "2008percent     float64\n",
       "2007total       float64\n",
       "2007percent     float64\n",
       "2006total       float64\n",
       "2006percent     float64\n",
       "2005total       float64\n",
       "2005percent     float64\n",
       "2004total       float64\n",
       "2004percent     float64\n",
       "2003total       float64\n",
       "2003percent     float64\n",
       "2002total       float64\n",
       "2002percent     float64\n",
       "2001total       float64\n",
       "2001percent     float64\n",
       "2000total       float64\n",
       "2000percent     float64\n",
       "1999total       float64\n",
       "1999percent     float64\n",
       "1998total       float64\n",
       "1998percent     float64\n",
       "1997total       float64\n",
       "1997percent     float64\n",
       "1996total       float64\n",
       "1996percent     float64\n",
       "1995total       float64\n",
       "1995percent     float64\n",
       "1994total       float64\n",
       "1994percent     float64\n",
       "dtype: object"
      ]
     },
     "execution_count": 6,
     "metadata": {},
     "output_type": "execute_result"
    }
   ],
   "source": [
    "fatalities.dtypes"
   ]
  },
  {
   "cell_type": "markdown",
   "id": "9c186f8b",
   "metadata": {},
   "source": [
    "Checking for and removing null values, which in this case is an empty row near the top of the spreadsheet"
   ]
  },
  {
   "cell_type": "code",
   "execution_count": 7,
   "id": "327306a4",
   "metadata": {},
   "outputs": [
    {
     "name": "stdout",
     "output_type": "stream",
     "text": [
      "Vehicle Type    1\n",
      "2015total       1\n",
      "2015percent     1\n",
      "2014total       1\n",
      "2014percent     1\n",
      "2013total       1\n",
      "2013percent     1\n",
      "2012total       1\n",
      "2012percent     1\n",
      "2011total       1\n",
      "2011percent     1\n",
      "2010total       1\n",
      "2010percent     1\n",
      "2009total       1\n",
      "2009percent     1\n",
      "2008total       1\n",
      "2008percent     1\n",
      "2007total       1\n",
      "2007percent     1\n",
      "2006total       1\n",
      "2006percent     1\n",
      "2005total       1\n",
      "2005percent     1\n",
      "2004total       1\n",
      "2004percent     1\n",
      "2003total       1\n",
      "2003percent     1\n",
      "2002total       1\n",
      "2002percent     1\n",
      "2001total       1\n",
      "2001percent     1\n",
      "2000total       1\n",
      "2000percent     1\n",
      "1999total       1\n",
      "1999percent     1\n",
      "1998total       1\n",
      "1998percent     1\n",
      "1997total       1\n",
      "1997percent     1\n",
      "1996total       1\n",
      "1996percent     1\n",
      "1995total       1\n",
      "1995percent     1\n",
      "1994total       1\n",
      "1994percent     1\n",
      "dtype: int64\n"
     ]
    }
   ],
   "source": [
    "print(fatalities.isnull().sum())"
   ]
  },
  {
   "cell_type": "code",
   "execution_count": 11,
   "id": "cb13a2cd",
   "metadata": {},
   "outputs": [
    {
     "data": {
      "text/plain": [
       "Vehicle Type    0\n",
       "2015total       0\n",
       "2015percent     0\n",
       "2014total       0\n",
       "2014percent     0\n",
       "2013total       0\n",
       "2013percent     0\n",
       "2012total       0\n",
       "2012percent     0\n",
       "2011total       0\n",
       "2011percent     0\n",
       "2010total       0\n",
       "2010percent     0\n",
       "2009total       0\n",
       "2009percent     0\n",
       "2008total       0\n",
       "2008percent     0\n",
       "2007total       0\n",
       "2007percent     0\n",
       "2006total       0\n",
       "2006percent     0\n",
       "2005total       0\n",
       "2005percent     0\n",
       "2004total       0\n",
       "2004percent     0\n",
       "2003total       0\n",
       "2003percent     0\n",
       "2002total       0\n",
       "2002percent     0\n",
       "2001total       0\n",
       "2001percent     0\n",
       "2000total       0\n",
       "2000percent     0\n",
       "1999total       0\n",
       "1999percent     0\n",
       "1998total       0\n",
       "1998percent     0\n",
       "1997total       0\n",
       "1997percent     0\n",
       "1996total       0\n",
       "1996percent     0\n",
       "1995total       0\n",
       "1995percent     0\n",
       "1994total       0\n",
       "1994percent     0\n",
       "dtype: int64"
      ]
     },
     "execution_count": 11,
     "metadata": {},
     "output_type": "execute_result"
    }
   ],
   "source": [
    "fatalities_clean = fatalities.dropna()\n",
    "fatalities_clean.isnull().sum()"
   ]
  },
  {
   "cell_type": "markdown",
   "id": "e6e2b52f",
   "metadata": {},
   "source": [
    "Removing the percentage columns because I'm not planning to use them for anything."
   ]
  },
  {
   "cell_type": "code",
   "execution_count": 12,
   "id": "f2824f19",
   "metadata": {},
   "outputs": [
    {
     "name": "stdout",
     "output_type": "stream",
     "text": [
      "     Vehicle Type  2015total  2014total  2013total  2012total  2011total  \\\n",
      "1  Passenger Cars    19810.0    17895.0    17957.0    18269.0    17508.0   \n",
      "2    Light Trucks    18869.0    17160.0    16928.0    17350.0    16806.0   \n",
      "3    Large Trucks     4075.0     3749.0     3921.0     3825.0     3633.0   \n",
      "4     Motorcycles     5131.0     4705.0     4800.0     5113.0     4769.0   \n",
      "5           Buses      263.0      236.0      282.0      253.0      245.0   \n",
      "6   Other/Unknown     1330.0     1205.0     1213.0     1150.0     1158.0   \n",
      "7           Total    49478.0    44950.0    45101.0    45960.0    44119.0   \n",
      "\n",
      "   2010total  2009total  2008total  2007total  ...  2003total  2002total  \\\n",
      "1    17804.0    18413.0    20474.0    22856.0  ...    26562.0    27374.0   \n",
      "2    17491.0    17958.0    19179.0    21810.0  ...    22299.0    21668.0   \n",
      "3     3494.0     3211.0     4089.0     4633.0  ...     4721.0     4587.0   \n",
      "4     4651.0     4603.0     5409.0     5306.0  ...     3802.0     3365.0   \n",
      "5      251.0      221.0      251.0      281.0  ...      291.0      274.0   \n",
      "6     1171.0     1134.0     1258.0     1367.0  ...     1202.0     1160.0   \n",
      "7    44862.0    45540.0    50660.0    56253.0  ...    58877.0    58428.0   \n",
      "\n",
      "   2001total  2000total  1999total  1998total  1997total  1996total  \\\n",
      "1    27586.0    27802.0    28027.0    29040.0    30059.0    30727.0   \n",
      "2    20831.0    20498.0    19959.0    19363.0    18628.0    18246.0   \n",
      "3     4823.0     4995.0     4920.0     4955.0     4917.0     4755.0   \n",
      "4     3265.0     2975.0     2532.0     2334.0     2160.0     2176.0   \n",
      "5      292.0      325.0      319.0      289.0      297.0      326.0   \n",
      "6     1121.0      998.0     1063.0      941.0      999.0     1117.0   \n",
      "7    57918.0    57593.0    56820.0    56922.0    57060.0    57347.0   \n",
      "\n",
      "   1995total  1994total  \n",
      "1    30940.0    30273.0  \n",
      "2    17587.0    16353.0  \n",
      "3     4472.0     4644.0  \n",
      "4     2268.0     2339.0  \n",
      "5      271.0      258.0  \n",
      "6      986.0     1044.0  \n",
      "7    56524.0    54911.0  \n",
      "\n",
      "[7 rows x 23 columns]\n"
     ]
    }
   ],
   "source": [
    "fatalities_total = fatalities_clean.drop(columns = ['2015percent', '2014percent', '2013percent', '2012percent', '2011percent', '2010percent', '2009percent', '2008percent', '2007percent', '2006percent', '2005percent', '2004percent', '2003percent', '2002percent', '2001percent', '2000percent', '1999percent', '1998percent', '1997percent', '1996percent', '1995percent', '1994percent'])\n",
    "print(fatalities_total)"
   ]
  },
  {
   "cell_type": "code",
   "execution_count": 17,
   "id": "d6767192",
   "metadata": {},
   "outputs": [
    {
     "data": {
      "text/plain": [
       "Index(['Vehicle Type', '2015total', '2014total', '2013total', '2012total',\n",
       "       '2011total', '2010total', '2009total', '2008total', '2007total',\n",
       "       '2006total', '2005total', '2004total', '2003total', '2002total',\n",
       "       '2001total', '2000total', '1999total', '1998total', '1997total',\n",
       "       '1996total', '1995total', '1994total'],\n",
       "      dtype='object')"
      ]
     },
     "execution_count": 17,
     "metadata": {},
     "output_type": "execute_result"
    }
   ],
   "source": [
    "fatalities_total.columns"
   ]
  },
  {
   "cell_type": "markdown",
   "id": "c779d8ac",
   "metadata": {},
   "source": [
    "Renaming the column names so that the dates become more apparent and easier to track."
   ]
  },
  {
   "cell_type": "code",
   "execution_count": 23,
   "id": "bd60a900",
   "metadata": {},
   "outputs": [
    {
     "data": {
      "text/plain": [
       "Index(['Vehicle Type', '2015', '2014', '2013', '2012', '2011', '2010', '2009',\n",
       "       '2008', '2007', '2006', '2005', '2004', '2003', '2002', '2001', '2000',\n",
       "       '1999', '1998', '1997', '1996', '1995', '1994'],\n",
       "      dtype='object')"
      ]
     },
     "execution_count": 23,
     "metadata": {},
     "output_type": "execute_result"
    }
   ],
   "source": [
    "fatalities_total = fatalities_total.rename(columns ={'2015total': '2015', '2014total': '2014', '2013total': '2013', '2012total': '2012', '2011total': '2011', '2010total': '2010', '2009total': '2009', '2008total': '2008', '2007total': '2007', '2006total': '2006', '2005total': '2005', '2004total': '2004', '2003total': '2003', '2002total': '2002', '2001total': '2001', '2000total': '2000', '1999total': '1999', '1998total': '1998', '1997total': '1997', '1996total': '1996', '1995total': '1995', '1994total': '1994'})\n",
    "fatalities_total.columns"
   ]
  },
  {
   "cell_type": "code",
   "execution_count": 24,
   "id": "ce9fa27a",
   "metadata": {},
   "outputs": [
    {
     "name": "stdout",
     "output_type": "stream",
     "text": [
      "     Vehicle Type     2015     2014     2013     2012     2011     2010  \\\n",
      "1  Passenger Cars  19810.0  17895.0  17957.0  18269.0  17508.0  17804.0   \n",
      "2    Light Trucks  18869.0  17160.0  16928.0  17350.0  16806.0  17491.0   \n",
      "3    Large Trucks   4075.0   3749.0   3921.0   3825.0   3633.0   3494.0   \n",
      "4     Motorcycles   5131.0   4705.0   4800.0   5113.0   4769.0   4651.0   \n",
      "5           Buses    263.0    236.0    282.0    253.0    245.0    251.0   \n",
      "6   Other/Unknown   1330.0   1205.0   1213.0   1150.0   1158.0   1171.0   \n",
      "7           Total  49478.0  44950.0  45101.0  45960.0  44119.0  44862.0   \n",
      "\n",
      "      2009     2008     2007  ...     2003     2002     2001     2000  \\\n",
      "1  18413.0  20474.0  22856.0  ...  26562.0  27374.0  27586.0  27802.0   \n",
      "2  17958.0  19179.0  21810.0  ...  22299.0  21668.0  20831.0  20498.0   \n",
      "3   3211.0   4089.0   4633.0  ...   4721.0   4587.0   4823.0   4995.0   \n",
      "4   4603.0   5409.0   5306.0  ...   3802.0   3365.0   3265.0   2975.0   \n",
      "5    221.0    251.0    281.0  ...    291.0    274.0    292.0    325.0   \n",
      "6   1134.0   1258.0   1367.0  ...   1202.0   1160.0   1121.0    998.0   \n",
      "7  45540.0  50660.0  56253.0  ...  58877.0  58428.0  57918.0  57593.0   \n",
      "\n",
      "      1999     1998     1997     1996     1995     1994  \n",
      "1  28027.0  29040.0  30059.0  30727.0  30940.0  30273.0  \n",
      "2  19959.0  19363.0  18628.0  18246.0  17587.0  16353.0  \n",
      "3   4920.0   4955.0   4917.0   4755.0   4472.0   4644.0  \n",
      "4   2532.0   2334.0   2160.0   2176.0   2268.0   2339.0  \n",
      "5    319.0    289.0    297.0    326.0    271.0    258.0  \n",
      "6   1063.0    941.0    999.0   1117.0    986.0   1044.0  \n",
      "7  56820.0  56922.0  57060.0  57347.0  56524.0  54911.0  \n",
      "\n",
      "[7 rows x 23 columns]\n"
     ]
    }
   ],
   "source": [
    "print(fatalities_total)"
   ]
  },
  {
   "cell_type": "markdown",
   "id": "888fa52a",
   "metadata": {},
   "source": [
    "Saving the final, cleaned file as a .csv"
   ]
  },
  {
   "cell_type": "code",
   "execution_count": null,
   "id": "c9b9acea",
   "metadata": {},
   "outputs": [],
   "source": [
    "#fatalities_total.to_csv('../data/fatalities_total_cleaned.csv', index=False)"
   ]
  },
  {
   "cell_type": "code",
   "execution_count": null,
   "id": "27a1dec7",
   "metadata": {},
   "outputs": [
    {
     "data": {
      "image/png": "[encoded data removed]",
      "text/plain": [
       "<Figure size 640x480 with 1 Axes>"
      ]
     },
     "metadata": {},
     "output_type": "display_data"
    }
   ],
   "source": [
    "#annual_fatal_car = fatalities_total.groupby('Vehicle Type')['Passenger Cars'].mean().reset_index()\n",
    "\n",
    "#plt.bar(fatalities_total['Vehicle Type'], fatalities_total['2015'], color = 'orange', edgecolor = 'black')\n",
    "#plt.title('Annual Fatalities by Vehicle Type')\n",
    "#plt.xlabel('Vehicle Type')\n",
    "#plt.ylabel('Fatalities')\n",
    "#plt.show()"
   ]
  },
  {
   "cell_type": "code",
   "execution_count": 68,
   "id": "4384aed1",
   "metadata": {},
   "outputs": [
    {
     "name": "stdout",
     "output_type": "stream",
     "text": [
      "           index               1             2             3            4  \\\n",
      "0   Vehicle Type  Passenger Cars  Light Trucks  Large Trucks  Motorcycles   \n",
      "1           2015         19810.0       18869.0        4075.0       5131.0   \n",
      "2           2014         17895.0       17160.0        3749.0       4705.0   \n",
      "3           2013         17957.0       16928.0        3921.0       4800.0   \n",
      "4           2012         18269.0       17350.0        3825.0       5113.0   \n",
      "5           2011         17508.0       16806.0        3633.0       4769.0   \n",
      "6           2010         17804.0       17491.0        3494.0       4651.0   \n",
      "7           2009         18413.0       17958.0        3211.0       4603.0   \n",
      "8           2008         20474.0       19179.0        4089.0       5409.0   \n",
      "9           2007         22856.0       21810.0        4633.0       5306.0   \n",
      "10          2006         24260.0       22411.0        4766.0       4963.0   \n",
      "11          2005         25169.0       22964.0        4951.0       4682.0   \n",
      "12          2004         25682.0       22486.0        4902.0       4121.0   \n",
      "13          2003         26562.0       22299.0        4721.0       3802.0   \n",
      "14          2002         27374.0       21668.0        4587.0       3365.0   \n",
      "15          2001         27586.0       20831.0        4823.0       3265.0   \n",
      "16          2000         27802.0       20498.0        4995.0       2975.0   \n",
      "17          1999         28027.0       19959.0        4920.0       2532.0   \n",
      "18          1998         29040.0       19363.0        4955.0       2334.0   \n",
      "19          1997         30059.0       18628.0        4917.0       2160.0   \n",
      "20          1996         30727.0       18246.0        4755.0       2176.0   \n",
      "21          1995         30940.0       17587.0        4472.0       2268.0   \n",
      "22          1994         30273.0       16353.0        4644.0       2339.0   \n",
      "\n",
      "        5              6        7  \n",
      "0   Buses  Other/Unknown    Total  \n",
      "1   263.0         1330.0  49478.0  \n",
      "2   236.0         1205.0  44950.0  \n",
      "3   282.0         1213.0  45101.0  \n",
      "4   253.0         1150.0  45960.0  \n",
      "5   245.0         1158.0  44119.0  \n",
      "6   251.0         1171.0  44862.0  \n",
      "7   221.0         1134.0  45540.0  \n",
      "8   251.0         1258.0  50660.0  \n",
      "9   281.0         1367.0  56253.0  \n",
      "10  305.0         1389.0  58094.0  \n",
      "11  280.0         1449.0  59495.0  \n",
      "12  279.0         1259.0  58729.0  \n",
      "13  291.0         1202.0  58877.0  \n",
      "14  274.0         1160.0  58428.0  \n",
      "15  292.0         1121.0  57918.0  \n",
      "16  325.0          998.0  57593.0  \n",
      "17  319.0         1063.0  56820.0  \n",
      "18  289.0          941.0  56922.0  \n",
      "19  297.0          999.0  57060.0  \n",
      "20  326.0         1117.0  57347.0  \n",
      "21  271.0          986.0  56524.0  \n",
      "22  258.0         1044.0  54911.0  \n"
     ]
    }
   ],
   "source": [
    "fatal_flip = pd.DataFrame(fatalities_total).T\n",
    "fatal_flip = fatal_flip.reset_index()\n",
    "print(fatal_flip)"
   ]
  },
  {
   "cell_type": "code",
   "execution_count": 69,
   "id": "24a1d994",
   "metadata": {},
   "outputs": [
    {
     "data": {
      "text/plain": [
       "Index(['index', 1, 2, 3, 4, 5, 6, 7], dtype='object')"
      ]
     },
     "execution_count": 69,
     "metadata": {},
     "output_type": "execute_result"
    }
   ],
   "source": [
    "fatal_flip.columns"
   ]
  },
  {
   "cell_type": "code",
   "execution_count": 71,
   "id": "febd57cc",
   "metadata": {},
   "outputs": [],
   "source": [
    "fatal_flip.to_csv('../data/fatal_flip.csv', index=True)"
   ]
  },
  {
   "cell_type": "markdown",
   "id": "566940e2",
   "metadata": {},
   "source": [
    "I cheated here. I couldn't figure out how to easily remove the index column using code. So I opened it in Excel and did it the manual way."
   ]
  },
  {
   "cell_type": "code",
   "execution_count": 75,
   "id": "35f488f2",
   "metadata": {},
   "outputs": [
    {
     "data": {
      "text/plain": [
       "Index(['Vehicle Type', 'Passenger Cars', 'Light Trucks', 'Large Trucks',\n",
       "       'Motorcycles', 'Buses', 'Other/Unknown', 'Total'],\n",
       "      dtype='object')"
      ]
     },
     "execution_count": 75,
     "metadata": {},
     "output_type": "execute_result"
    }
   ],
   "source": [
    "fatal_flip = pd.read_csv('../data/fatal_flip.csv')\n",
    "fatal_flip.columns"
   ]
  },
  {
   "cell_type": "code",
   "execution_count": 76,
   "id": "bd870a61",
   "metadata": {},
   "outputs": [
    {
     "name": "stdout",
     "output_type": "stream",
     "text": [
      "    year  Passenger Cars  Light Trucks  Large Trucks  Motorcycles  Buses  \\\n",
      "0   2015           19810         18869          4075         5131    263   \n",
      "1   2014           17895         17160          3749         4705    236   \n",
      "2   2013           17957         16928          3921         4800    282   \n",
      "3   2012           18269         17350          3825         5113    253   \n",
      "4   2011           17508         16806          3633         4769    245   \n",
      "5   2010           17804         17491          3494         4651    251   \n",
      "6   2009           18413         17958          3211         4603    221   \n",
      "7   2008           20474         19179          4089         5409    251   \n",
      "8   2007           22856         21810          4633         5306    281   \n",
      "9   2006           24260         22411          4766         4963    305   \n",
      "10  2005           25169         22964          4951         4682    280   \n",
      "11  2004           25682         22486          4902         4121    279   \n",
      "12  2003           26562         22299          4721         3802    291   \n",
      "13  2002           27374         21668          4587         3365    274   \n",
      "14  2001           27586         20831          4823         3265    292   \n",
      "15  2000           27802         20498          4995         2975    325   \n",
      "16  1999           28027         19959          4920         2532    319   \n",
      "17  1998           29040         19363          4955         2334    289   \n",
      "18  1997           30059         18628          4917         2160    297   \n",
      "19  1996           30727         18246          4755         2176    326   \n",
      "20  1995           30940         17587          4472         2268    271   \n",
      "21  1994           30273         16353          4644         2339    258   \n",
      "\n",
      "    Other/Unknown  Total  \n",
      "0            1330  49478  \n",
      "1            1205  44950  \n",
      "2            1213  45101  \n",
      "3            1150  45960  \n",
      "4            1158  44119  \n",
      "5            1171  44862  \n",
      "6            1134  45540  \n",
      "7            1258  50660  \n",
      "8            1367  56253  \n",
      "9            1389  58094  \n",
      "10           1449  59495  \n",
      "11           1259  58729  \n",
      "12           1202  58877  \n",
      "13           1160  58428  \n",
      "14           1121  57918  \n",
      "15            998  57593  \n",
      "16           1063  56820  \n",
      "17            941  56922  \n",
      "18            999  57060  \n",
      "19           1117  57347  \n",
      "20            986  56524  \n",
      "21           1044  54911  \n"
     ]
    }
   ],
   "source": [
    "fatal_flip = fatal_flip.rename(columns = {'Vehicle Type': 'year'})\n",
    "print(fatal_flip)"
   ]
  },
  {
   "cell_type": "code",
   "execution_count": 77,
   "id": "5c20dfb4",
   "metadata": {},
   "outputs": [
    {
     "data": {
      "text/plain": [
       "Index(['year', 'Passenger Cars', 'Light Trucks'], dtype='object')"
      ]
     },
     "execution_count": 77,
     "metadata": {},
     "output_type": "execute_result"
    }
   ],
   "source": [
    "fatal_flip = fatal_flip.drop(columns = ['Large Trucks', 'Motorcycles', 'Buses', 'Other/Unknown', 'Total'])\n",
    "fatal_flip.columns"
   ]
  }
 ],
 "metadata": {
  "kernelspec": {
   "display_name": "Python 3",
   "language": "python",
   "name": "python3"
  },
  "language_info": {
   "codemirror_mode": {
    "name": "ipython",
    "version": 3
   },
   "file_extension": ".py",
   "mimetype": "text/x-python",
   "name": "python",
   "nbconvert_exporter": "python",
   "pygments_lexer": "ipython3",
   "version": "3.9.6"
  }
 },
 "nbformat": 4,
 "nbformat_minor": 5
}
