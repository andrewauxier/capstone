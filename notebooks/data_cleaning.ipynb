{
 "cells": [
  {
   "cell_type": "markdown",
   "id": "3da5721d",
   "metadata": {},
   "source": [
    "Capstone Project"
   ]
  },
  {
   "cell_type": "code",
   "execution_count": null,
   "id": "255db3d0",
   "metadata": {},
   "outputs": [
    {
     "name": "stdout",
     "output_type": "stream",
     "text": [
      "Requirement already satisfied: pandas in /Users/andrewauxier/capstone/.venv/lib/python3.9/site-packages (2.3.1)\n",
      "Requirement already satisfied: numpy>=1.22.4 in /Users/andrewauxier/capstone/.venv/lib/python3.9/site-packages (from pandas) (2.0.2)\n",
      "Requirement already satisfied: python-dateutil>=2.8.2 in /Users/andrewauxier/capstone/.venv/lib/python3.9/site-packages (from pandas) (2.9.0.post0)\n",
      "Requirement already satisfied: pytz>=2020.1 in /Users/andrewauxier/capstone/.venv/lib/python3.9/site-packages (from pandas) (2025.2)\n",
      "Requirement already satisfied: tzdata>=2022.7 in /Users/andrewauxier/capstone/.venv/lib/python3.9/site-packages (from pandas) (2025.2)\n",
      "Requirement already satisfied: six>=1.5 in /Users/andrewauxier/capstone/.venv/lib/python3.9/site-packages (from python-dateutil>=2.8.2->pandas) (1.17.0)\n",
      "Note: you may need to restart the kernel to use updated packages.\n"
     ]
    }
   ],
   "source": [
    "#pip install pandas"
   ]
  },
  {
   "cell_type": "code",
   "execution_count": 1,
   "id": "81669f4e",
   "metadata": {},
   "outputs": [],
   "source": [
    "import pandas as pd"
   ]
  },
  {
   "cell_type": "markdown",
   "id": "d90f9f79",
   "metadata": {},
   "source": [
    "Reading in the first .csv file"
   ]
  },
  {
   "cell_type": "code",
   "execution_count": 2,
   "id": "b3975ef9",
   "metadata": {},
   "outputs": [],
   "source": [
    "df_prices = pd.read_csv('../data/car_prices.csv')"
   ]
  },
  {
   "cell_type": "markdown",
   "id": "4f6d7f30",
   "metadata": {},
   "source": [
    "Exploring the first .csv file a little"
   ]
  },
  {
   "cell_type": "code",
   "execution_count": 3,
   "id": "f926ea45",
   "metadata": {},
   "outputs": [
    {
     "data": {
      "text/plain": [
       "Index(['year', 'make', 'model', 'trim', 'body', 'transmission', 'vin', 'state',\n",
       "       'condition', 'odometer', 'color', 'interior', 'seller', 'mmr',\n",
       "       'sellingprice', 'saledate'],\n",
       "      dtype='object')"
      ]
     },
     "execution_count": 3,
     "metadata": {},
     "output_type": "execute_result"
    }
   ],
   "source": [
    "df_prices.columns"
   ]
  },
  {
   "cell_type": "code",
   "execution_count": 4,
   "id": "78f4b9b2",
   "metadata": {},
   "outputs": [
    {
     "data": {
      "text/plain": [
       "(558837, 16)"
      ]
     },
     "execution_count": 4,
     "metadata": {},
     "output_type": "execute_result"
    }
   ],
   "source": [
    "df_prices.shape"
   ]
  },
  {
   "cell_type": "code",
   "execution_count": 5,
   "id": "cef27bff",
   "metadata": {},
   "outputs": [
    {
     "data": {
      "text/plain": [
       "year              int64\n",
       "make             object\n",
       "model            object\n",
       "trim             object\n",
       "body             object\n",
       "transmission     object\n",
       "vin              object\n",
       "state            object\n",
       "condition       float64\n",
       "odometer        float64\n",
       "color            object\n",
       "interior         object\n",
       "seller           object\n",
       "mmr             float64\n",
       "sellingprice    float64\n",
       "saledate         object\n",
       "dtype: object"
      ]
     },
     "execution_count": 5,
     "metadata": {},
     "output_type": "execute_result"
    }
   ],
   "source": [
    "df_prices.dtypes"
   ]
  },
  {
   "cell_type": "code",
   "execution_count": 6,
   "id": "6d153e54",
   "metadata": {},
   "outputs": [
    {
     "data": {
      "text/html": [
       "<div>\n",
       "<style scoped>\n",
       "    .dataframe tbody tr th:only-of-type {\n",
       "        vertical-align: middle;\n",
       "    }\n",
       "\n",
       "    .dataframe tbody tr th {\n",
       "        vertical-align: top;\n",
       "    }\n",
       "\n",
       "    .dataframe thead th {\n",
       "        text-align: right;\n",
       "    }\n",
       "</style>\n",
       "<table border=\"1\" class=\"dataframe\">\n",
       "  <thead>\n",
       "    <tr style=\"text-align: right;\">\n",
       "      <th></th>\n",
       "      <th>year</th>\n",
       "      <th>condition</th>\n",
       "      <th>odometer</th>\n",
       "      <th>mmr</th>\n",
       "      <th>sellingprice</th>\n",
       "    </tr>\n",
       "  </thead>\n",
       "  <tbody>\n",
       "    <tr>\n",
       "      <th>count</th>\n",
       "      <td>558837.000000</td>\n",
       "      <td>547017.000000</td>\n",
       "      <td>558743.000000</td>\n",
       "      <td>558799.000000</td>\n",
       "      <td>558825.000000</td>\n",
       "    </tr>\n",
       "    <tr>\n",
       "      <th>mean</th>\n",
       "      <td>2010.038927</td>\n",
       "      <td>30.672365</td>\n",
       "      <td>68320.017767</td>\n",
       "      <td>13769.377495</td>\n",
       "      <td>13611.358810</td>\n",
       "    </tr>\n",
       "    <tr>\n",
       "      <th>std</th>\n",
       "      <td>3.966864</td>\n",
       "      <td>13.402832</td>\n",
       "      <td>53398.542821</td>\n",
       "      <td>9679.967174</td>\n",
       "      <td>9749.501628</td>\n",
       "    </tr>\n",
       "    <tr>\n",
       "      <th>min</th>\n",
       "      <td>1982.000000</td>\n",
       "      <td>1.000000</td>\n",
       "      <td>1.000000</td>\n",
       "      <td>25.000000</td>\n",
       "      <td>1.000000</td>\n",
       "    </tr>\n",
       "    <tr>\n",
       "      <th>25%</th>\n",
       "      <td>2007.000000</td>\n",
       "      <td>23.000000</td>\n",
       "      <td>28371.000000</td>\n",
       "      <td>7100.000000</td>\n",
       "      <td>6900.000000</td>\n",
       "    </tr>\n",
       "    <tr>\n",
       "      <th>50%</th>\n",
       "      <td>2012.000000</td>\n",
       "      <td>35.000000</td>\n",
       "      <td>52254.000000</td>\n",
       "      <td>12250.000000</td>\n",
       "      <td>12100.000000</td>\n",
       "    </tr>\n",
       "    <tr>\n",
       "      <th>75%</th>\n",
       "      <td>2013.000000</td>\n",
       "      <td>42.000000</td>\n",
       "      <td>99109.000000</td>\n",
       "      <td>18300.000000</td>\n",
       "      <td>18200.000000</td>\n",
       "    </tr>\n",
       "    <tr>\n",
       "      <th>max</th>\n",
       "      <td>2015.000000</td>\n",
       "      <td>49.000000</td>\n",
       "      <td>999999.000000</td>\n",
       "      <td>182000.000000</td>\n",
       "      <td>230000.000000</td>\n",
       "    </tr>\n",
       "  </tbody>\n",
       "</table>\n",
       "</div>"
      ],
      "text/plain": [
       "                year      condition       odometer            mmr  \\\n",
       "count  558837.000000  547017.000000  558743.000000  558799.000000   \n",
       "mean     2010.038927      30.672365   68320.017767   13769.377495   \n",
       "std         3.966864      13.402832   53398.542821    9679.967174   \n",
       "min      1982.000000       1.000000       1.000000      25.000000   \n",
       "25%      2007.000000      23.000000   28371.000000    7100.000000   \n",
       "50%      2012.000000      35.000000   52254.000000   12250.000000   \n",
       "75%      2013.000000      42.000000   99109.000000   18300.000000   \n",
       "max      2015.000000      49.000000  999999.000000  182000.000000   \n",
       "\n",
       "        sellingprice  \n",
       "count  558825.000000  \n",
       "mean    13611.358810  \n",
       "std      9749.501628  \n",
       "min         1.000000  \n",
       "25%      6900.000000  \n",
       "50%     12100.000000  \n",
       "75%     18200.000000  \n",
       "max    230000.000000  "
      ]
     },
     "execution_count": 6,
     "metadata": {},
     "output_type": "execute_result"
    }
   ],
   "source": [
    "df_prices.describe()"
   ]
  },
  {
   "cell_type": "markdown",
   "id": "eab5d2db",
   "metadata": {},
   "source": [
    "Checking to see how many null values are in the first .csv file"
   ]
  },
  {
   "cell_type": "code",
   "execution_count": 7,
   "id": "aebcce63",
   "metadata": {},
   "outputs": [
    {
     "name": "stdout",
     "output_type": "stream",
     "text": [
      "year                0\n",
      "make            10301\n",
      "model           10399\n",
      "trim            10651\n",
      "body            13195\n",
      "transmission    65352\n",
      "vin                 4\n",
      "state               0\n",
      "condition       11820\n",
      "odometer           94\n",
      "color             749\n",
      "interior          749\n",
      "seller              0\n",
      "mmr                38\n",
      "sellingprice       12\n",
      "saledate           12\n",
      "dtype: int64\n"
     ]
    }
   ],
   "source": [
    "print(df_prices.isnull().sum())"
   ]
  },
  {
   "cell_type": "code",
   "execution_count": 8,
   "id": "cde67312",
   "metadata": {},
   "outputs": [
    {
     "name": "stdout",
     "output_type": "stream",
     "text": [
      "year                0\n",
      "make            10301\n",
      "model           10399\n",
      "trim            10651\n",
      "body            13195\n",
      "transmission    65352\n",
      "vin                 4\n",
      "state               0\n",
      "condition       11820\n",
      "odometer           94\n",
      "color             749\n",
      "interior          749\n",
      "seller              0\n",
      "mmr                38\n",
      "sellingprice       12\n",
      "saledate           12\n",
      "dtype: int64\n"
     ]
    }
   ],
   "source": [
    "print(df_prices.isnull().sum())"
   ]
  },
  {
   "cell_type": "markdown",
   "id": "baa6b5f2",
   "metadata": {},
   "source": [
    "Removing null values"
   ]
  },
  {
   "cell_type": "code",
   "execution_count": 9,
   "id": "8f8b1572",
   "metadata": {},
   "outputs": [],
   "source": [
    "df_prices_cleaned = df_prices.dropna()\n"
   ]
  },
  {
   "cell_type": "markdown",
   "id": "5cea9aaa",
   "metadata": {},
   "source": [
    "Confirming null values were dropped"
   ]
  },
  {
   "cell_type": "code",
   "execution_count": 10,
   "id": "22e2ed55",
   "metadata": {},
   "outputs": [
    {
     "name": "stdout",
     "output_type": "stream",
     "text": [
      "year            0\n",
      "make            0\n",
      "model           0\n",
      "trim            0\n",
      "body            0\n",
      "transmission    0\n",
      "vin             0\n",
      "state           0\n",
      "condition       0\n",
      "odometer        0\n",
      "color           0\n",
      "interior        0\n",
      "seller          0\n",
      "mmr             0\n",
      "sellingprice    0\n",
      "saledate        0\n",
      "dtype: int64\n"
     ]
    }
   ],
   "source": [
    "print(df_prices_cleaned.isnull().sum())"
   ]
  },
  {
   "cell_type": "code",
   "execution_count": 11,
   "id": "da04c464",
   "metadata": {},
   "outputs": [
    {
     "data": {
      "text/plain": [
       "Index(['year', 'make', 'model', 'trim', 'body', 'transmission', 'vin', 'state',\n",
       "       'condition', 'odometer', 'color', 'interior', 'seller', 'mmr',\n",
       "       'sellingprice', 'saledate'],\n",
       "      dtype='object')"
      ]
     },
     "execution_count": 11,
     "metadata": {},
     "output_type": "execute_result"
    }
   ],
   "source": [
    "df_prices_cleaned.columns"
   ]
  },
  {
   "cell_type": "markdown",
   "id": "9da48653",
   "metadata": {},
   "source": [
    "Removing columns that aren't pertinent to the analysis"
   ]
  },
  {
   "cell_type": "code",
   "execution_count": 12,
   "id": "f2cdb1f0",
   "metadata": {},
   "outputs": [],
   "source": [
    "df_prices_cleaned = df_prices_cleaned.drop(columns = ['condition', 'odometer', 'color', 'interior', 'seller', 'saledate'])"
   ]
  },
  {
   "cell_type": "markdown",
   "id": "864daa3d",
   "metadata": {},
   "source": [
    "Confirming that the unnecessary columns were dropped"
   ]
  },
  {
   "cell_type": "code",
   "execution_count": 13,
   "id": "59e42034",
   "metadata": {},
   "outputs": [
    {
     "data": {
      "text/plain": [
       "Index(['year', 'make', 'model', 'trim', 'body', 'transmission', 'vin', 'state',\n",
       "       'mmr', 'sellingprice'],\n",
       "      dtype='object')"
      ]
     },
     "execution_count": 13,
     "metadata": {},
     "output_type": "execute_result"
    }
   ],
   "source": [
    "df_prices_cleaned.columns"
   ]
  },
  {
   "cell_type": "markdown",
   "id": "cda4889e",
   "metadata": {},
   "source": [
    "Checking to see what are the unique values listed in the body column, as this is the column that will be used to join to the next table. Converting the values to lower case and removing the spaces to get rid of duplicate body types."
   ]
  },
  {
   "cell_type": "code",
   "execution_count": 32,
   "id": "f2108b57",
   "metadata": {},
   "outputs": [
    {
     "name": "stdout",
     "output_type": "stream",
     "text": [
      "['SUV' 'Sedan' 'Convertible' 'Coupe' 'Wagon' 'Hatchback' 'Crew Cab'\n",
      " 'G Coupe' 'G Sedan' 'Elantra Coupe' 'Genesis Coupe' 'Minivan' 'Van'\n",
      " 'Double Cab' 'CrewMax Cab' 'Access Cab' 'King Cab' 'CTS Coupe'\n",
      " 'SuperCrew' 'E-Series Van' 'Extended Cab' 'SuperCab' 'G Convertible'\n",
      " 'Koup' 'Regular Cab' 'Quad Cab' 'CTS-V Coupe' 'sedan' 'G37 Convertible'\n",
      " 'Club Cab' 'Xtracab' 'Q60 Convertible' 'CTS Wagon' 'G37 Coupe' 'Mega Cab'\n",
      " 'Cab Plus 4' 'Q60 Coupe' 'Beetle Convertible' 'TSX Sport Wagon'\n",
      " 'Promaster Cargo Van' 'Cab Plus' 'GranTurismo Convertible' 'CTS-V Wagon'\n",
      " 'Ram Van' 'convertible' 'minivan' 'Transit Van' 'van' 'regular-cab' 'suv'\n",
      " 'g sedan' 'g coupe' 'hatchback' 'king cab' 'supercrew' 'g convertible'\n",
      " 'coupe' 'crew cab' 'wagon' 'e-series van' 'regular cab' 'quad cab'\n",
      " 'g37 convertible' 'supercab' 'extended cab' 'crewmax cab' 'double cab'\n",
      " 'genesis coupe' 'access cab' 'mega cab' 'xtracab' 'beetle convertible'\n",
      " 'cts coupe' 'koup' 'club cab' 'elantra coupe' 'q60 coupe' 'cts-v coupe'\n",
      " 'transit van' 'granturismo convertible' 'tsx sport wagon'\n",
      " 'promaster cargo van' 'q60 convertible' 'cab plus 4' 'cts wagon']\n"
     ]
    }
   ],
   "source": [
    "body_values = df_prices_cleaned['body']\n",
    "print(body_values.unique())"
   ]
  },
  {
   "cell_type": "markdown",
   "id": "ae8ed96f",
   "metadata": {},
   "source": [
    "Defining a function to clean up the body column, classifying each 'body' value into one of three categories and creating a column to store those categories. Coupe keeps getting classified at 'Other' for some reason."
   ]
  },
  {
   "cell_type": "code",
   "execution_count": 37,
   "id": "043b1e29",
   "metadata": {},
   "outputs": [
    {
     "data": {
      "text/plain": [
       "<bound method NDFrame.head of         year    make                model         trim       body  \\\n",
       "0       2015     Kia              Sorento           LX        SUV   \n",
       "1       2015     Kia              Sorento           LX        SUV   \n",
       "2       2014     BMW             3 Series   328i SULEV      Sedan   \n",
       "3       2015   Volvo                  S60           T5      Sedan   \n",
       "4       2014     BMW  6 Series Gran Coupe         650i      Sedan   \n",
       "...      ...     ...                  ...          ...        ...   \n",
       "558831  2011     BMW             5 Series         528i      Sedan   \n",
       "558833  2012     Ram                 2500  Power Wagon   Crew Cab   \n",
       "558834  2012     BMW                   X5    xDrive35d        SUV   \n",
       "558835  2015  Nissan               Altima        2.5 S      sedan   \n",
       "558836  2014    Ford                F-150          XLT  SuperCrew   \n",
       "\n",
       "       transmission                vin state      mmr  sellingprice  \\\n",
       "0         automatic  5xyktca69fg566472    ca  20500.0       21500.0   \n",
       "1         automatic  5xyktca69fg561319    ca  20800.0       21500.0   \n",
       "2         automatic  wba3c1c51ek116351    ca  31900.0       30000.0   \n",
       "3         automatic  yv1612tb4f1310987    ca  27500.0       27750.0   \n",
       "4         automatic  wba6b2c57ed129731    ca  66000.0       67000.0   \n",
       "...             ...                ...   ...      ...           ...   \n",
       "558831    automatic  wbafr1c53bc744672    fl  20300.0       22800.0   \n",
       "558833    automatic  3c6td5et6cg112407    wa  30200.0       30800.0   \n",
       "558834    automatic  5uxzw0c58cl668465    ca  29800.0       34000.0   \n",
       "558835    automatic  1n4al3ap0fc216050    ga  15100.0       11100.0   \n",
       "558836    automatic  1ftfw1et2eke87277    ca  29600.0       26700.0   \n",
       "\n",
       "            body_class  \n",
       "0         Light Trucks  \n",
       "1         Light Trucks  \n",
       "2       Passenger Cars  \n",
       "3       Passenger Cars  \n",
       "4       Passenger Cars  \n",
       "...                ...  \n",
       "558831  Passenger Cars  \n",
       "558833    Light Trucks  \n",
       "558834    Light Trucks  \n",
       "558835  Passenger Cars  \n",
       "558836    Light Trucks  \n",
       "\n",
       "[472325 rows x 11 columns]>"
      ]
     },
     "execution_count": 37,
     "metadata": {},
     "output_type": "execute_result"
    }
   ],
   "source": [
    "def body_classification(body):\n",
    "    if body in ['Sedan', 'Convertible', 'CTS-V Coupe' 'Coupe', 'Wagon', 'Hatchback', 'G Coupe', 'G Sedan', 'Elantra Coupe', 'Genesis Coupe', 'CTS Coupe', 'G Convertible', 'Koup', 'CTS-V Coupe', 'G37 Convertible', 'Q60 Convertible', 'CTS Wagon', 'G37 Coupe', 'Q60 Coupe', 'Beetle Convertible', 'TSX Sport Wagon', 'GranTurismo Convertible', 'CTS-V Wagon', 'sedan', 'convertible', 'coupe', 'wagon', 'hatchback', 'g coupe', 'g sedan', 'elantra coupe', 'genesis coupe', 'cts coupe', 'g convertible', 'koup', 'cts-v coupe', 'g37 convertible', 'q60 convertible', 'cts wagon', 'g37 coupe', 'q60 coupe', 'beetle convertible', 'tsx sport wagon', 'granturismo convertible', 'cts-v wagon']:\n",
    "        return 'Passenger Cars'\n",
    "    elif body in ['SUV', 'Transit Van', 'Crew Cab', 'Minivan', 'Van', 'Double Cab', 'CrewMax Cab', 'Access Cab', 'King Cab', 'SuperCrew', 'E-Series Van', 'Extended Cab', 'SuperCab', 'Regular Cab', 'Quad Cab', 'Club Cab', 'Xtracab', 'Mega Cab', 'Cab Plus 4', 'Promaster Cargo Van', 'Cab Plus', 'Ram Van', 'suv', 'crew cab', 'minivan', 'van', 'double cab', 'crewmax cab', 'access cab', 'king cab', 'supercrew', 'e-series van', 'extended cab', 'supercab', 'regular cab', 'quad cab', 'club cab', 'xtracab', 'mega cab', 'cab plus 4', 'promaster cargo van', 'cab plus', 'ram van', 'transit van', 'regular-cab']:\n",
    "        return 'Light Trucks'\n",
    "    else:\n",
    "        return 'Other'\n",
    "\n",
    "df_prices_cleaned['body_class'] = df_prices_cleaned['body'].apply(body_classification)\n",
    "\n",
    "df_prices_cleaned.head"
   ]
  },
  {
   "cell_type": "markdown",
   "id": "76449618",
   "metadata": {},
   "source": [
    "Exporting the finished dataframe as a .csv file"
   ]
  },
  {
   "cell_type": "code",
   "execution_count": 38,
   "id": "16c89beb",
   "metadata": {},
   "outputs": [],
   "source": [
    "df_prices_cleaned.to_csv('../data/car_prices_updated.csv', index=False)"
   ]
  },
  {
   "cell_type": "code",
   "execution_count": 15,
   "id": "6bf66a1a",
   "metadata": {},
   "outputs": [],
   "source": [
    "#df_prices_filtered = df_prices_cleaned[df_prices_cleaned['year']>2019]\n",
    "#df_prices_filtered.head"
   ]
  },
  {
   "cell_type": "code",
   "execution_count": null,
   "id": "c7ff9b05",
   "metadata": {},
   "outputs": [],
   "source": [
    "#df_fatal = pd.read_csv('../data/fatal_crashes_combined.csv')"
   ]
  },
  {
   "cell_type": "code",
   "execution_count": null,
   "id": "571396b8",
   "metadata": {},
   "outputs": [
    {
     "data": {
      "text/plain": [
       "Index(['Body Class', '2020_Number', '2020_Percent', '2021_Number',\n",
       "       '2021_Percent', '2022_Number', '2022_Percent', '2023_Number',\n",
       "       '2023_Percent'],\n",
       "      dtype='object')"
      ]
     },
     "execution_count": 17,
     "metadata": {},
     "output_type": "execute_result"
    }
   ],
   "source": [
    "#df_fatal.columns"
   ]
  }
 ],
 "metadata": {
  "kernelspec": {
   "display_name": "Python 3",
   "language": "python",
   "name": "python3"
  },
  "language_info": {
   "codemirror_mode": {
    "name": "ipython",
    "version": 3
   },
   "file_extension": ".py",
   "mimetype": "text/x-python",
   "name": "python",
   "nbconvert_exporter": "python",
   "pygments_lexer": "ipython3",
   "version": "3.13.1"
  }
 },
 "nbformat": 4,
 "nbformat_minor": 5
}
