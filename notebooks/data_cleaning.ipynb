{
 "cells": [
  {
   "cell_type": "code",
   "execution_count": 1,
   "id": "255db3d0",
   "metadata": {},
   "outputs": [
    {
     "name": "stdout",
     "output_type": "stream",
     "text": [
      "Requirement already satisfied: pandas in c:\\users\\h1or9aja\\appdata\\local\\programs\\python\\python313\\lib\\site-packages (2.2.3)\n",
      "Requirement already satisfied: numpy>=1.26.0 in c:\\users\\h1or9aja\\appdata\\local\\programs\\python\\python313\\lib\\site-packages (from pandas) (2.2.5)\n",
      "Requirement already satisfied: python-dateutil>=2.8.2 in c:\\users\\h1or9aja\\appdata\\roaming\\python\\python313\\site-packages (from pandas) (2.9.0.post0)\n",
      "Requirement already satisfied: pytz>=2020.1 in c:\\users\\h1or9aja\\appdata\\local\\programs\\python\\python313\\lib\\site-packages (from pandas) (2025.2)\n",
      "Requirement already satisfied: tzdata>=2022.7 in c:\\users\\h1or9aja\\appdata\\local\\programs\\python\\python313\\lib\\site-packages (from pandas) (2025.2)\n",
      "Requirement already satisfied: six>=1.5 in c:\\users\\h1or9aja\\appdata\\roaming\\python\\python313\\site-packages (from python-dateutil>=2.8.2->pandas) (1.17.0)\n",
      "Note: you may need to restart the kernel to use updated packages.\n"
     ]
    },
    {
     "name": "stderr",
     "output_type": "stream",
     "text": [
      "\n",
      "[notice] A new release of pip is available: 24.3.1 -> 25.1.1\n",
      "[notice] To update, run: python.exe -m pip install --upgrade pip\n"
     ]
    }
   ],
   "source": [
    "pip install pandas"
   ]
  },
  {
   "cell_type": "code",
   "execution_count": 2,
   "id": "81669f4e",
   "metadata": {},
   "outputs": [],
   "source": [
    "import pandas as pd"
   ]
  },
  {
   "cell_type": "code",
   "execution_count": 18,
   "id": "b3975ef9",
   "metadata": {},
   "outputs": [],
   "source": [
    "df_prices = pd.read_csv(r'D:\\Desktop\\capstone\\data\\car_prices.csv')"
   ]
  },
  {
   "cell_type": "code",
   "execution_count": 19,
   "id": "f926ea45",
   "metadata": {},
   "outputs": [
    {
     "data": {
      "text/plain": [
       "Index(['year', 'make', 'model', 'trim', 'body', 'transmission', 'vin', 'state',\n",
       "       'condition', 'odometer', 'color', 'interior', 'seller', 'mmr',\n",
       "       'sellingprice', 'saledate'],\n",
       "      dtype='object')"
      ]
     },
     "execution_count": 19,
     "metadata": {},
     "output_type": "execute_result"
    }
   ],
   "source": [
    "df_prices.columns"
   ]
  },
  {
   "cell_type": "code",
   "execution_count": 20,
   "id": "aebcce63",
   "metadata": {},
   "outputs": [
    {
     "name": "stdout",
     "output_type": "stream",
     "text": [
      "year                0\n",
      "make            10301\n",
      "model           10399\n",
      "trim            10651\n",
      "body            13195\n",
      "transmission    65352\n",
      "vin                 4\n",
      "state               0\n",
      "condition       11820\n",
      "odometer           94\n",
      "color             749\n",
      "interior          749\n",
      "seller              0\n",
      "mmr                38\n",
      "sellingprice       12\n",
      "saledate           12\n",
      "dtype: int64\n"
     ]
    }
   ],
   "source": [
    "print(df_prices.isnull().sum())"
   ]
  },
  {
   "cell_type": "code",
   "execution_count": 21,
   "id": "8f8b1572",
   "metadata": {},
   "outputs": [],
   "source": [
    "df_prices_cleaned = df_prices.dropna()\n"
   ]
  },
  {
   "cell_type": "code",
   "execution_count": 22,
   "id": "22e2ed55",
   "metadata": {},
   "outputs": [
    {
     "name": "stdout",
     "output_type": "stream",
     "text": [
      "year            0\n",
      "make            0\n",
      "model           0\n",
      "trim            0\n",
      "body            0\n",
      "transmission    0\n",
      "vin             0\n",
      "state           0\n",
      "condition       0\n",
      "odometer        0\n",
      "color           0\n",
      "interior        0\n",
      "seller          0\n",
      "mmr             0\n",
      "sellingprice    0\n",
      "saledate        0\n",
      "dtype: int64\n"
     ]
    }
   ],
   "source": [
    "print(df_prices_cleaned.isnull().sum())"
   ]
  },
  {
   "cell_type": "code",
   "execution_count": 39,
   "id": "da04c464",
   "metadata": {},
   "outputs": [
    {
     "data": {
      "text/plain": [
       "Index(['year', 'make', 'model', 'trim', 'body', 'state', 'condition',\n",
       "       'odometer', 'color', 'interior', 'seller', 'mmr', 'sellingprice',\n",
       "       'saledate'],\n",
       "      dtype='object')"
      ]
     },
     "execution_count": 39,
     "metadata": {},
     "output_type": "execute_result"
    }
   ],
   "source": [
    "df_prices_cleaned.columns"
   ]
  },
  {
   "cell_type": "code",
   "execution_count": 40,
   "id": "f2cdb1f0",
   "metadata": {},
   "outputs": [],
   "source": [
    "df_prices_cleaned = df_prices_cleaned.drop(columns = ['condition', 'odometer', 'color', 'interior', 'seller', 'saledate'])"
   ]
  },
  {
   "cell_type": "code",
   "execution_count": 41,
   "id": "59e42034",
   "metadata": {},
   "outputs": [
    {
     "data": {
      "text/plain": [
       "Index(['year', 'make', 'model', 'trim', 'body', 'state', 'mmr',\n",
       "       'sellingprice'],\n",
       "      dtype='object')"
      ]
     },
     "execution_count": 41,
     "metadata": {},
     "output_type": "execute_result"
    }
   ],
   "source": [
    "df_prices_cleaned.columns"
   ]
  },
  {
   "cell_type": "code",
   "execution_count": 42,
   "id": "6bf66a1a",
   "metadata": {},
   "outputs": [],
   "source": [
    "df_prices_filtered = df_prices_cleaned[df_prices_cleaned['year']>2019]"
   ]
  },
  {
   "cell_type": "code",
   "execution_count": 23,
   "id": "c7ff9b05",
   "metadata": {},
   "outputs": [],
   "source": [
    "df_fatal = pd.read_csv(r'D:\\Desktop\\capstone\\data\\fatal_crashes_combined.csv')"
   ]
  },
  {
   "cell_type": "code",
   "execution_count": 24,
   "id": "571396b8",
   "metadata": {},
   "outputs": [
    {
     "data": {
      "text/plain": [
       "Index(['Body Class', '2020_Number', '2020_Percent', '2021_Number',\n",
       "       '2021_Percent', '2022_Number', '2022_Percent', '2023_Number',\n",
       "       '2023_Percent'],\n",
       "      dtype='object')"
      ]
     },
     "execution_count": 24,
     "metadata": {},
     "output_type": "execute_result"
    }
   ],
   "source": [
    "df_fatal.columns"
   ]
  }
 ],
 "metadata": {
  "kernelspec": {
   "display_name": "Python 3",
   "language": "python",
   "name": "python3"
  },
  "language_info": {
   "codemirror_mode": {
    "name": "ipython",
    "version": 3
   },
   "file_extension": ".py",
   "mimetype": "text/x-python",
   "name": "python",
   "nbconvert_exporter": "python",
   "pygments_lexer": "ipython3",
   "version": "3.13.1"
  }
 },
 "nbformat": 4,
 "nbformat_minor": 5
}
