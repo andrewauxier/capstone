{
 "cells": [
  {
   "cell_type": "markdown",
   "id": "3da5721d",
   "metadata": {},
   "source": [
    "# **Car Prices Cleaning**"
   ]
  },
  {
   "cell_type": "code",
   "execution_count": 2,
   "id": "81669f4e",
   "metadata": {},
   "outputs": [],
   "source": [
    "import pandas as pd\n",
    "import matplotlib.pyplot as plt\n",
    "import sqlite3\n"
   ]
  },
  {
   "cell_type": "markdown",
   "id": "d90f9f79",
   "metadata": {},
   "source": [
    "Reading in the car_prices.csv"
   ]
  },
  {
   "cell_type": "code",
   "execution_count": 3,
   "id": "b3975ef9",
   "metadata": {},
   "outputs": [],
   "source": [
    "df_prices = pd.read_csv('../data/car_prices.csv')"
   ]
  },
  {
   "cell_type": "markdown",
   "id": "d8fc5b4f",
   "metadata": {},
   "source": [
    "Running my EDA function to see what I'm working with."
   ]
  },
  {
   "cell_type": "code",
   "execution_count": 4,
   "id": "6a468a9c",
   "metadata": {},
   "outputs": [
    {
     "name": "stdout",
     "output_type": "stream",
     "text": [
      "Columns: Index(['year', 'make', 'model', 'trim', 'body', 'transmission', 'vin', 'state',\n",
      "       'condition', 'odometer', 'color', 'interior', 'seller', 'mmr',\n",
      "       'sellingprice', 'saledate'],\n",
      "      dtype='object')\n",
      "Shape: (558837, 16)\n",
      "Data Types: year              int64\n",
      "make             object\n",
      "model            object\n",
      "trim             object\n",
      "body             object\n",
      "transmission     object\n",
      "vin              object\n",
      "state            object\n",
      "condition       float64\n",
      "odometer        float64\n",
      "color            object\n",
      "interior         object\n",
      "seller           object\n",
      "mmr             float64\n",
      "sellingprice    float64\n",
      "saledate         object\n",
      "dtype: object\n",
      "Describe:                 year      condition       odometer            mmr  \\\n",
      "count  558837.000000  547017.000000  558743.000000  558799.000000   \n",
      "mean     2010.038927      30.672365   68320.017767   13769.377495   \n",
      "std         3.966864      13.402832   53398.542821    9679.967174   \n",
      "min      1982.000000       1.000000       1.000000      25.000000   \n",
      "25%      2007.000000      23.000000   28371.000000    7100.000000   \n",
      "50%      2012.000000      35.000000   52254.000000   12250.000000   \n",
      "75%      2013.000000      42.000000   99109.000000   18300.000000   \n",
      "max      2015.000000      49.000000  999999.000000  182000.000000   \n",
      "\n",
      "        sellingprice  \n",
      "count  558825.000000  \n",
      "mean    13611.358810  \n",
      "std      9749.501628  \n",
      "min         1.000000  \n",
      "25%      6900.000000  \n",
      "50%     12100.000000  \n",
      "75%     18200.000000  \n",
      "max    230000.000000  \n",
      "Null Values: year                0\n",
      "make            10301\n",
      "model           10399\n",
      "trim            10651\n",
      "body            13195\n",
      "transmission    65352\n",
      "vin                 4\n",
      "state               0\n",
      "condition       11820\n",
      "odometer           94\n",
      "color             749\n",
      "interior          749\n",
      "seller              0\n",
      "mmr                38\n",
      "sellingprice       12\n",
      "saledate           12\n",
      "dtype: int64\n"
     ]
    }
   ],
   "source": [
    "from tools import eda\n",
    "\n",
    "eda(df_prices)"
   ]
  },
  {
   "cell_type": "markdown",
   "id": "baa6b5f2",
   "metadata": {},
   "source": [
    "Removing null values"
   ]
  },
  {
   "cell_type": "code",
   "execution_count": 5,
   "id": "d8170585",
   "metadata": {},
   "outputs": [
    {
     "name": "stdout",
     "output_type": "stream",
     "text": [
      "Nulls are gone! year            0\n",
      "make            0\n",
      "model           0\n",
      "trim            0\n",
      "body            0\n",
      "transmission    0\n",
      "vin             0\n",
      "state           0\n",
      "condition       0\n",
      "odometer        0\n",
      "color           0\n",
      "interior        0\n",
      "seller          0\n",
      "mmr             0\n",
      "sellingprice    0\n",
      "saledate        0\n",
      "dtype: int64\n"
     ]
    }
   ],
   "source": [
    "from tools import remove_null\n",
    "remove_null(df_prices)"
   ]
  },
  {
   "cell_type": "markdown",
   "id": "9da48653",
   "metadata": {},
   "source": [
    "Removing columns that aren't pertinent to the analysis"
   ]
  },
  {
   "cell_type": "code",
   "execution_count": 6,
   "id": "f2cdb1f0",
   "metadata": {},
   "outputs": [],
   "source": [
    "df_prices = df_prices.drop(columns = ['condition', 'odometer', 'color', 'interior', 'seller', 'saledate'])"
   ]
  },
  {
   "cell_type": "markdown",
   "id": "864daa3d",
   "metadata": {},
   "source": [
    "Confirming that the unnecessary columns were dropped"
   ]
  },
  {
   "cell_type": "code",
   "execution_count": 7,
   "id": "59e42034",
   "metadata": {},
   "outputs": [
    {
     "data": {
      "text/plain": [
       "Index(['year', 'make', 'model', 'trim', 'body', 'transmission', 'vin', 'state',\n",
       "       'mmr', 'sellingprice'],\n",
       "      dtype='object')"
      ]
     },
     "execution_count": 7,
     "metadata": {},
     "output_type": "execute_result"
    }
   ],
   "source": [
    "df_prices.columns"
   ]
  },
  {
   "cell_type": "markdown",
   "id": "cda4889e",
   "metadata": {},
   "source": [
    "Checking to see what are the unique values listed in the body column in order to reclassify them into body classes more useful for the analysis."
   ]
  },
  {
   "cell_type": "code",
   "execution_count": 8,
   "id": "f2108b57",
   "metadata": {},
   "outputs": [
    {
     "name": "stdout",
     "output_type": "stream",
     "text": [
      "['SUV' 'Sedan' 'Convertible' 'Coupe' 'Wagon' 'Hatchback' 'Crew Cab'\n",
      " 'G Coupe' 'G Sedan' 'Elantra Coupe' 'Genesis Coupe' 'Minivan' 'Van'\n",
      " 'Double Cab' 'CrewMax Cab' 'Access Cab' 'King Cab' 'CTS Coupe'\n",
      " 'SuperCrew' 'E-Series Van' 'Extended Cab' 'SuperCab' 'G Convertible'\n",
      " 'Koup' 'Regular Cab' 'Quad Cab' 'CTS-V Coupe' 'sedan' 'G37 Convertible'\n",
      " 'Club Cab' 'Xtracab' 'Q60 Convertible' 'CTS Wagon' 'G37 Coupe' 'Mega Cab'\n",
      " 'Cab Plus 4' 'Q60 Coupe' 'Beetle Convertible' 'TSX Sport Wagon'\n",
      " 'Promaster Cargo Van' 'Cab Plus' 'GranTurismo Convertible' 'CTS-V Wagon'\n",
      " 'Ram Van' 'convertible' 'minivan' 'Transit Van' 'van' 'regular-cab' 'suv'\n",
      " 'g sedan' 'g coupe' 'hatchback' 'king cab' 'supercrew' 'g convertible'\n",
      " 'coupe' 'crew cab' 'wagon' 'e-series van' 'regular cab' 'quad cab'\n",
      " 'g37 convertible' 'supercab' 'extended cab' 'crewmax cab' 'double cab'\n",
      " 'genesis coupe' 'access cab' 'mega cab' 'xtracab' 'beetle convertible'\n",
      " 'cts coupe' 'koup' 'club cab' 'elantra coupe' 'q60 coupe' 'cts-v coupe'\n",
      " 'transit van' 'granturismo convertible' 'tsx sport wagon'\n",
      " 'promaster cargo van' 'q60 convertible' 'cab plus 4' 'cts wagon']\n"
     ]
    }
   ],
   "source": [
    "body_values = df_prices['body']\n",
    "print(body_values.unique())"
   ]
  },
  {
   "cell_type": "markdown",
   "id": "ae8ed96f",
   "metadata": {},
   "source": [
    "Defining a function to clean up the body column, classifying each 'body' value into one of three categories and creating a column to store those categories."
   ]
  },
  {
   "cell_type": "code",
   "execution_count": 9,
   "id": "043b1e29",
   "metadata": {},
   "outputs": [
    {
     "data": {
      "text/plain": [
       "<bound method NDFrame.head of         year    make                model         trim       body  \\\n",
       "0       2015     Kia              Sorento           LX        SUV   \n",
       "1       2015     Kia              Sorento           LX        SUV   \n",
       "2       2014     BMW             3 Series   328i SULEV      Sedan   \n",
       "3       2015   Volvo                  S60           T5      Sedan   \n",
       "4       2014     BMW  6 Series Gran Coupe         650i      Sedan   \n",
       "...      ...     ...                  ...          ...        ...   \n",
       "558831  2011     BMW             5 Series         528i      Sedan   \n",
       "558833  2012     Ram                 2500  Power Wagon   Crew Cab   \n",
       "558834  2012     BMW                   X5    xDrive35d        SUV   \n",
       "558835  2015  Nissan               Altima        2.5 S      sedan   \n",
       "558836  2014    Ford                F-150          XLT  SuperCrew   \n",
       "\n",
       "       transmission                vin state      mmr  sellingprice  \\\n",
       "0         automatic  5xyktca69fg566472    ca  20500.0       21500.0   \n",
       "1         automatic  5xyktca69fg561319    ca  20800.0       21500.0   \n",
       "2         automatic  wba3c1c51ek116351    ca  31900.0       30000.0   \n",
       "3         automatic  yv1612tb4f1310987    ca  27500.0       27750.0   \n",
       "4         automatic  wba6b2c57ed129731    ca  66000.0       67000.0   \n",
       "...             ...                ...   ...      ...           ...   \n",
       "558831    automatic  wbafr1c53bc744672    fl  20300.0       22800.0   \n",
       "558833    automatic  3c6td5et6cg112407    wa  30200.0       30800.0   \n",
       "558834    automatic  5uxzw0c58cl668465    ca  29800.0       34000.0   \n",
       "558835    automatic  1n4al3ap0fc216050    ga  15100.0       11100.0   \n",
       "558836    automatic  1ftfw1et2eke87277    ca  29600.0       26700.0   \n",
       "\n",
       "            body_class  \n",
       "0         Light_Trucks  \n",
       "1         Light_Trucks  \n",
       "2       Passenger_Cars  \n",
       "3       Passenger_Cars  \n",
       "4       Passenger_Cars  \n",
       "...                ...  \n",
       "558831  Passenger_Cars  \n",
       "558833    Light_Trucks  \n",
       "558834    Light_Trucks  \n",
       "558835  Passenger_Cars  \n",
       "558836    Light_Trucks  \n",
       "\n",
       "[472325 rows x 11 columns]>"
      ]
     },
     "execution_count": 9,
     "metadata": {},
     "output_type": "execute_result"
    }
   ],
   "source": [
    "def body_classification(body):\n",
    "    \"\"\"\n",
    "    Reclassify the body types to combine them into comparable types\n",
    "\n",
    "    Args:\n",
    "        Take the various values in the body column and classify them into a broader category\n",
    "\n",
    "    Returns:\n",
    "        Each entry in the body column is classified as either a passenger car or light truck, depending on what it is\n",
    "\n",
    "    \"\"\"\n",
    "    \n",
    "    if body in ['Sedan', 'Convertible', 'CTS-V Coupe', 'Coupe', 'Wagon', 'Hatchback', 'G Coupe', 'G Sedan', 'Elantra Coupe', 'Genesis Coupe', 'CTS Coupe', 'G Convertible', 'Koup', 'CTS-V Coupe', 'G37 Convertible', 'Q60 Convertible', 'CTS Wagon', 'G37 Coupe', 'Q60 Coupe', 'Beetle Convertible', 'TSX Sport Wagon', 'GranTurismo Convertible', 'CTS-V Wagon', 'sedan', 'convertible', 'coupe', 'wagon', 'hatchback', 'g coupe', 'g sedan', 'elantra coupe', 'genesis coupe', 'cts coupe', 'g convertible', 'koup', 'cts-v coupe', 'g37 convertible', 'q60 convertible', 'cts wagon', 'g37 coupe', 'q60 coupe', 'beetle convertible', 'tsx sport wagon', 'granturismo convertible', 'cts-v wagon']:\n",
    "        return 'Passenger_Cars'\n",
    "    elif body in ['SUV', 'Transit Van', 'Crew Cab', 'Minivan', 'Van', 'Double Cab', 'CrewMax Cab', 'Access Cab', 'King Cab', 'SuperCrew', 'E-Series Van', 'Extended Cab', 'SuperCab', 'Regular Cab', 'Quad Cab', 'Club Cab', 'Xtracab', 'Mega Cab', 'Cab Plus 4', 'Promaster Cargo Van', 'Cab Plus', 'Ram Van', 'suv', 'crew cab', 'minivan', 'van', 'double cab', 'crewmax cab', 'access cab', 'king cab', 'supercrew', 'e-series van', 'extended cab', 'supercab', 'regular cab', 'quad cab', 'club cab', 'xtracab', 'mega cab', 'cab plus 4', 'promaster cargo van', 'cab plus', 'ram van', 'transit van', 'regular-cab']:\n",
    "        return 'Light_Trucks'\n",
    "    else:\n",
    "        return 'Other'\n",
    "\n",
    "df_prices['body_class'] = df_prices['body'].apply(body_classification)\n",
    "\n",
    "df_prices.head"
   ]
  },
  {
   "cell_type": "markdown",
   "id": "b1458860",
   "metadata": {},
   "source": [
    "Filtering out vehicles sold earlier than 1994 to mesh with my other dataframe"
   ]
  },
  {
   "cell_type": "code",
   "execution_count": 10,
   "id": "86022729",
   "metadata": {},
   "outputs": [
    {
     "data": {
      "text/html": [
       "<div>\n",
       "<style scoped>\n",
       "    .dataframe tbody tr th:only-of-type {\n",
       "        vertical-align: middle;\n",
       "    }\n",
       "\n",
       "    .dataframe tbody tr th {\n",
       "        vertical-align: top;\n",
       "    }\n",
       "\n",
       "    .dataframe thead th {\n",
       "        text-align: right;\n",
       "    }\n",
       "</style>\n",
       "<table border=\"1\" class=\"dataframe\">\n",
       "  <thead>\n",
       "    <tr style=\"text-align: right;\">\n",
       "      <th></th>\n",
       "      <th>year</th>\n",
       "      <th>mmr</th>\n",
       "      <th>sellingprice</th>\n",
       "    </tr>\n",
       "  </thead>\n",
       "  <tbody>\n",
       "    <tr>\n",
       "      <th>count</th>\n",
       "      <td>472017.000000</td>\n",
       "      <td>472017.000000</td>\n",
       "      <td>472017.000000</td>\n",
       "    </tr>\n",
       "    <tr>\n",
       "      <th>mean</th>\n",
       "      <td>2010.222842</td>\n",
       "      <td>13845.442802</td>\n",
       "      <td>13698.849052</td>\n",
       "    </tr>\n",
       "    <tr>\n",
       "      <th>std</th>\n",
       "      <td>3.794989</td>\n",
       "      <td>9529.633266</td>\n",
       "      <td>9610.561942</td>\n",
       "    </tr>\n",
       "    <tr>\n",
       "      <th>min</th>\n",
       "      <td>1994.000000</td>\n",
       "      <td>25.000000</td>\n",
       "      <td>1.000000</td>\n",
       "    </tr>\n",
       "    <tr>\n",
       "      <th>25%</th>\n",
       "      <td>2008.000000</td>\n",
       "      <td>7450.000000</td>\n",
       "      <td>7200.000000</td>\n",
       "    </tr>\n",
       "    <tr>\n",
       "      <th>50%</th>\n",
       "      <td>2012.000000</td>\n",
       "      <td>12350.000000</td>\n",
       "      <td>12200.000000</td>\n",
       "    </tr>\n",
       "    <tr>\n",
       "      <th>75%</th>\n",
       "      <td>2013.000000</td>\n",
       "      <td>18300.000000</td>\n",
       "      <td>18200.000000</td>\n",
       "    </tr>\n",
       "    <tr>\n",
       "      <th>max</th>\n",
       "      <td>2015.000000</td>\n",
       "      <td>182000.000000</td>\n",
       "      <td>230000.000000</td>\n",
       "    </tr>\n",
       "  </tbody>\n",
       "</table>\n",
       "</div>"
      ],
      "text/plain": [
       "                year            mmr   sellingprice\n",
       "count  472017.000000  472017.000000  472017.000000\n",
       "mean     2010.222842   13845.442802   13698.849052\n",
       "std         3.794989    9529.633266    9610.561942\n",
       "min      1994.000000      25.000000       1.000000\n",
       "25%      2008.000000    7450.000000    7200.000000\n",
       "50%      2012.000000   12350.000000   12200.000000\n",
       "75%      2013.000000   18300.000000   18200.000000\n",
       "max      2015.000000  182000.000000  230000.000000"
      ]
     },
     "execution_count": 10,
     "metadata": {},
     "output_type": "execute_result"
    }
   ],
   "source": [
    "df_prices = df_prices[df_prices['year'] > 1993]\n",
    "df_prices.describe() #checking the max and min numbers for year to make sure it did what I wanted."
   ]
  },
  {
   "cell_type": "markdown",
   "id": "c2de60c4",
   "metadata": {},
   "source": [
    "Making a new table that consists of only the vehicles classified as light trucks, passenger cars, and the year sold."
   ]
  },
  {
   "cell_type": "code",
   "execution_count": 11,
   "id": "c2d00bc2",
   "metadata": {},
   "outputs": [
    {
     "name": "stdout",
     "output_type": "stream",
     "text": [
      "    year  Light_Trucks_Sold  Passenger_Cars_Sold\n",
      "0   1994                 43                  243\n",
      "1   1995                 92                  391\n",
      "2   1996                114                  448\n",
      "3   1997                251                  791\n",
      "4   1998                322                 1142\n",
      "5   1999                652                 1575\n",
      "6   2000               1021                 2406\n",
      "7   2001               1957                 3183\n",
      "8   2002               3204                 4489\n",
      "9   2003               4603                 5765\n",
      "10  2004               6972                 6652\n",
      "11  2005               8463                 8706\n",
      "12  2006               9631                12000\n",
      "13  2007              12013                13365\n",
      "14  2008              13150                13861\n",
      "15  2009               7287                10672\n",
      "16  2010              10416                12200\n",
      "17  2011              18600                22784\n",
      "18  2012              27386                59994\n",
      "19  2013              29722                57745\n",
      "20  2014              28146                41566\n",
      "21  2015               4008                 3986\n"
     ]
    }
   ],
   "source": [
    "body_type_by_year = pd.pivot_table(\n",
    "    df_prices,\n",
    "    index = 'year',\n",
    "    columns = 'body_class',\n",
    "    aggfunc = 'size',\n",
    "    fill_value = 0\n",
    ").reset_index()\n",
    "\n",
    "body_type_by_year.columns.name = None\n",
    "body_type_by_year = body_type_by_year.rename(columns = {\n",
    "    'Light_Trucks': 'Light_Trucks_Sold',\n",
    "    'Passenger_Cars': 'Passenger_Cars_Sold'\n",
    "})\n",
    "\n",
    "print(body_type_by_year)"
   ]
  },
  {
   "cell_type": "markdown",
   "id": "c963e038",
   "metadata": {},
   "source": [
    "Determining the average sale price by year"
   ]
  },
  {
   "cell_type": "code",
   "execution_count": null,
   "id": "056c2c0e",
   "metadata": {},
   "outputs": [],
   "source": [
    "# avg_saleprice = df_prices.groupby('year')['sellingprice'].mean().reset_index()\n",
    "# avg_saleprice.columns = ['year', 'avg_saleprice'] "
   ]
  },
  {
   "cell_type": "code",
   "execution_count": null,
   "id": "d788cde0",
   "metadata": {},
   "outputs": [],
   "source": [
    "# plt.bar(avg_saleprice['year'], avg_saleprice['avg_saleprice'], color = 'orange', edgecolor = 'black')\n",
    "# plt.title('Average Selling Price by Year')\n",
    "# plt.xlabel('Year')\n",
    "# plt.ylabel('Average Price')\n",
    "# plt.show()"
   ]
  },
  {
   "cell_type": "markdown",
   "id": "351acd6b",
   "metadata": {},
   "source": [
    "Figuring out how many of each make of vehicle was sold over the period represented in the dataframe."
   ]
  },
  {
   "cell_type": "code",
   "execution_count": 34,
   "id": "3c3272c1",
   "metadata": {},
   "outputs": [],
   "source": [
    "# total_manufac = df_prices['make'].value_counts().reset_index()\n",
    "# print(total_manufac)"
   ]
  },
  {
   "cell_type": "code",
   "execution_count": 35,
   "id": "a74ac221",
   "metadata": {},
   "outputs": [],
   "source": [
    "# plt.bar(total_manufac['make'], total_manufac['count'], color = 'green', edgecolor = 'black')\n",
    "# plt.title('Total Vehicles Sold by Manufacturer')\n",
    "# plt.xlabel('Manufacturer')\n",
    "# plt.ylabel('Vehicles Sold')\n",
    "# plt.xticks(rotation=45, ha='right')\n",
    "# plt.show()"
   ]
  },
  {
   "cell_type": "markdown",
   "id": "4677d862",
   "metadata": {},
   "source": [
    "Comparing the two vehicle clases that are in the dataframe to see which type sold the most, and making a donut pie chart because it looks like a wheel."
   ]
  },
  {
   "cell_type": "code",
   "execution_count": 36,
   "id": "12c3cc25",
   "metadata": {},
   "outputs": [],
   "source": [
    "#trucks_vs_cars = df_prices['body_class'].value_counts()\n",
    "#print(trucks_vs_cars)"
   ]
  },
  {
   "cell_type": "code",
   "execution_count": 37,
   "id": "5c6a390c",
   "metadata": {},
   "outputs": [],
   "source": [
    "# values = trucks_vs_cars.values\n",
    "# labels = trucks_vs_cars.index\n",
    "\n",
    "# plt.figure(figsize=(4,4))\n",
    "# plt.pie(values, labels=labels, autopct='%1.1f%%', startangle=180, colors=plt.cm.Paired.colors, wedgeprops={'width':0.6, 'edgecolor':'white'})\n",
    "# plt.legend(title = 'Body Class', bbox_to_anchor=(1.05,1), loc='best')\n",
    "# plt.title('Comparision of Body Classes Sold')\n",
    "# plt.axis('equal')\n",
    "# plt.show()"
   ]
  },
  {
   "cell_type": "code",
   "execution_count": 38,
   "id": "f4d010b8",
   "metadata": {},
   "outputs": [
    {
     "name": "stdout",
     "output_type": "stream",
     "text": [
      "    year  Light_Trucks_Sold  Passenger_Cars_Sold\n",
      "0   1994                 43                  243\n",
      "1   1995                 92                  391\n",
      "2   1996                114                  448\n",
      "3   1997                251                  791\n",
      "4   1998                322                 1142\n",
      "5   1999                652                 1575\n",
      "6   2000               1021                 2406\n",
      "7   2001               1957                 3183\n",
      "8   2002               3204                 4489\n",
      "9   2003               4603                 5765\n",
      "10  2004               6972                 6652\n",
      "11  2005               8463                 8706\n",
      "12  2006               9631                12000\n",
      "13  2007              12013                13365\n",
      "14  2008              13150                13861\n",
      "15  2009               7287                10672\n",
      "16  2010              10416                12200\n",
      "17  2011              18600                22784\n",
      "18  2012              27386                59994\n",
      "19  2013              29722                57745\n",
      "20  2014              28146                41566\n",
      "21  2015               4008                 3986\n"
     ]
    }
   ],
   "source": [
    "#Connecting the database that was already created\n",
    "conn = sqlite3.connect('../data/final_data.db')\n",
    "cursor = conn.cursor()\n",
    "\n",
    "#Adding the data from the dataframe to a table\n",
    "body_type_by_year.to_sql('vehicle_prices', conn, if_exists='replace', index = False)\n",
    "\n",
    "#Verifying that the data was added to the table\n",
    "print(pd.read_sql_query('SELECT * FROM vehicle_prices', conn))\n",
    "\n",
    "conn.commit()\n",
    "conn.close()\n",
    "\n",
    "\n",
    "\n"
   ]
  },
  {
   "cell_type": "markdown",
   "id": "76449618",
   "metadata": {},
   "source": [
    "Exporting the finished dataframe as a .csv file, if I want to."
   ]
  },
  {
   "cell_type": "code",
   "execution_count": 39,
   "id": "16c89beb",
   "metadata": {},
   "outputs": [],
   "source": [
    "#df_prices.to_csv('../data/car_prices_updated.csv', index=False)"
   ]
  }
 ],
 "metadata": {
  "kernelspec": {
   "display_name": "Python 3",
   "language": "python",
   "name": "python3"
  },
  "language_info": {
   "codemirror_mode": {
    "name": "ipython",
    "version": 3
   },
   "file_extension": ".py",
   "mimetype": "text/x-python",
   "name": "python",
   "nbconvert_exporter": "python",
   "pygments_lexer": "ipython3",
   "version": "3.13.1"
  }
 },
 "nbformat": 4,
 "nbformat_minor": 5
}
